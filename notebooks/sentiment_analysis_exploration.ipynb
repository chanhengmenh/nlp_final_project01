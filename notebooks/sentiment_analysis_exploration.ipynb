{
 "cells": [
  {
   "cell_type": "code",
   "execution_count": 5,
   "id": "5f49aad3",
   "metadata": {},
   "outputs": [
    {
     "name": "stdout",
     "output_type": "stream",
     "text": [
      "✅ Success! TensorFlow sees your GPU.\n"
     ]
    }
   ],
   "source": [
    "import tensorflow as tf\n",
    "if tf.config.list_physical_devices('GPU'):\n",
    "    print(f\"✅ Success! TensorFlow sees your GPU.\")\n",
    "else:\n",
    "    print(\"❌ Failure. TensorFlow cannot see your GPU.\")"
   ]
  },
  {
   "cell_type": "markdown",
   "id": "c2033817",
   "metadata": {},
   "source": [
    "### GPU Configuration for Optimal Performance\n",
    "Configure TensorFlow to use GPU exclusively and limit CPU thread usage to prevent CPU spike to 100%."
   ]
  },
  {
   "cell_type": "code",
   "execution_count": null,
   "id": "98ec179b",
   "metadata": {},
   "outputs": [],
   "source": [
    "import tensorflow as tf\n",
    "import os\n",
    "\n",
    "# =============================================================================\n",
    "# GPU CONFIGURATION - Force TensorFlow to use GPU only and limit CPU usage\n",
    "# =============================================================================\n",
    "\n",
    "# 1. Limit CPU threads to prevent 100% CPU usage\n",
    "# This is crucial for preventing CPU spike during data preprocessing\n",
    "os.environ['OMP_NUM_THREADS'] = '4'  # Limit OpenMP threads\n",
    "os.environ['TF_NUM_INTEROP_THREADS'] = '2'  # Limit TensorFlow inter-op parallelism\n",
    "os.environ['TF_NUM_INTRAOP_THREADS'] = '4'  # Limit TensorFlow intra-op parallelism\n",
    "\n",
    "# Set TensorFlow thread settings\n",
    "tf.config.threading.set_inter_op_parallelism_threads(2)\n",
    "tf.config.threading.set_intra_op_parallelism_threads(4)\n",
    "\n",
    "# 2. Configure GPU memory growth to prevent OOM errors\n",
    "gpus = tf.config.list_physical_devices('GPU')\n",
    "if gpus:\n",
    "    try:\n",
    "        # Enable memory growth - allocate GPU memory as needed instead of all at once\n",
    "        for gpu in gpus:\n",
    "            tf.config.experimental.set_memory_growth(gpu, True)\n",
    "        \n",
    "        # Set GPU as the only visible device for compute-intensive operations\n",
    "        tf.config.set_visible_devices(gpus, 'GPU')\n",
    "        \n",
    "        print(f\"✅ GPU Configuration Successful!\")\n",
    "        print(f\"   Number of GPUs available: {len(gpus)}\")\n",
    "        for i, gpu in enumerate(gpus):\n",
    "            print(f\"   GPU {i}: {gpu.name}\")\n",
    "        print(f\"   Memory growth enabled: Prevents OOM errors\")\n",
    "        print(f\"   CPU threads limited: Prevents 100% CPU usage\")\n",
    "        \n",
    "        # Verify GPU is being used\n",
    "        print(f\"\\n🔍 TensorFlow GPU Details:\")\n",
    "        print(f\"   Built with CUDA: {tf.test.is_built_with_cuda()}\")\n",
    "        print(f\"   GPU available: {tf.test.is_gpu_available(cuda_only=False, min_cuda_compute_capability=None)}\")\n",
    "        \n",
    "    except RuntimeError as e:\n",
    "        print(f\"⚠️ GPU configuration error: {e}\")\n",
    "else:\n",
    "    print(\"❌ No GPU found. Training will use CPU (will be slow).\")\n",
    "    # If no GPU, at least limit CPU usage\n",
    "    print(\"   CPU threads limited to prevent overload.\")\n",
    "\n",
    "# 3. Additional optimizations\n",
    "# Enable mixed precision training for faster computation on modern GPUs\n",
    "try:\n",
    "    from tensorflow.keras import mixed_precision\n",
    "    policy = mixed_precision.Policy('mixed_float16')\n",
    "    mixed_precision.set_global_policy(policy)\n",
    "    print(f\"\\n⚡ Mixed precision enabled (float16) for faster training on GPU\")\n",
    "except Exception as e:\n",
    "    print(f\"\\n⚠️ Could not enable mixed precision: {e}\")\n",
    "\n",
    "print(\"\\n\" + \"=\"*70)\n",
    "print(\"GPU setup complete! Your training will now run on GPU with limited CPU usage.\")\n",
    "print(\"=\"*70)"
   ]
  },
  {
   "cell_type": "markdown",
   "id": "e0bbe230",
   "metadata": {},
   "source": [
    "# Tweet Sentiment Analysis: From Baseline to State-of-the-Art"
   ]
  },
  {
   "cell_type": "markdown",
   "id": "64bd0d98",
   "metadata": {},
   "source": [
    "#### This notebook serves as the primary workspace for developing and comparing sentiment analysis models. We will follow a structured approach:\n",
    "1.  **Setup and Data Exploration**: Load libraries and understand the dataset.\n",
    "2.  **Universal Text Preprocessing**: Create a robust cleaning pipeline for our text data.\n",
    "3.  **Part 1: Baseline Models (Scikit-learn)**: Implement and evaluate classic machine learning models using TF-IDF.\n",
    "4.  **Part 2: Deep Learning Models**: Build and evaluate an LSTM model and discuss the implementation of a Transformer (RoBERTa).\n",
    "5.  **Model Comparison & Final Selection**: Compare the results and choose the best model.\n",
    "6.  **Saving and Predicting with the Final Model**: Save the chosen model and use it for inference on new tweets."
   ]
  },
  {
   "cell_type": "markdown",
   "id": "17c3f353",
   "metadata": {},
   "source": [
    "### 1. Setup and Data Exploration: \n",
    "##### First, let's import all necessary libraries, download NLTK data, and perform a brief exploratory data analysis (EDA).\n"
   ]
  },
  {
   "cell_type": "markdown",
   "id": "955ccbf0",
   "metadata": {},
   "source": [
    "#### 1.1 Imports"
   ]
  },
  {
   "cell_type": "code",
   "execution_count": 6,
   "id": "15077565",
   "metadata": {},
   "outputs": [
    {
     "name": "stdout",
     "output_type": "stream",
     "text": [
      "✅ All imports successful!\n"
     ]
    }
   ],
   "source": [
    "import pandas as pd\n",
    "import numpy as np\n",
    "import re\n",
    "import sys\n",
    "import joblib\n",
    "import os\n",
    "import matplotlib.pyplot as plt\n",
    "import seaborn as sns\n",
    "\n",
    "# Fix NLTK import issue with Python 3.13 by setting data path before import\n",
    "os.environ['NLTK_DATA'] = os.path.expanduser('~/nltk_data')\n",
    "\n",
    "# Import NLTK - now should work without circular import\n",
    "import nltk\n",
    "from nltk.corpus import stopwords\n",
    "from nltk.stem import WordNetLemmatizer\n",
    "from nltk.tokenize import word_tokenize\n",
    "\n",
    "# Scikit-learn Imports\n",
    "from sklearn.model_selection import train_test_split\n",
    "from sklearn.feature_extraction.text import TfidfVectorizer\n",
    "from sklearn.linear_model import LogisticRegression\n",
    "from sklearn.svm import LinearSVC\n",
    "from sklearn.naive_bayes import MultinomialNB\n",
    "from sklearn.ensemble import RandomForestClassifier\n",
    "from sklearn.metrics import classification_report, confusion_matrix, accuracy_score, roc_auc_score\n",
    "from sklearn.preprocessing import label_binarize\n",
    "\n",
    "# Deep Learning Imports\n",
    "import tensorflow as tf\n",
    "from tensorflow.keras.preprocessing.text import Tokenizer\n",
    "from tensorflow.keras.preprocessing.sequence import pad_sequences\n",
    "from tensorflow.keras.models import Sequential\n",
    "from tensorflow.keras.layers import Embedding, LSTM, Dense, SpatialDropout1D, Bidirectional\n",
    "from tensorflow.keras.callbacks import EarlyStopping\n",
    "\n",
    "# Transformers Import\n",
    "from transformers import RobertaTokenizer, TFRobertaForSequenceClassification\n",
    "\n",
    "# Configure plots\n",
    "sns.set_style('whitegrid')\n",
    "\n",
    "# Global results dictionary for model comparisons (initialized early to avoid NameError)\n",
    "results = {}\n",
    "\n",
    "print(\"✅ All imports successful!\")"
   ]
  },
  {
   "cell_type": "markdown",
   "id": "edeea75f",
   "metadata": {},
   "source": [
    "#### 1.2 NLTK Downloads"
   ]
  },
  {
   "cell_type": "code",
   "execution_count": 7,
   "id": "19e1b086",
   "metadata": {},
   "outputs": [],
   "source": [
    "# Download NLTK data (only needs to be done once)\n",
    "try:\n",
    "    stopwords.words('english')\n",
    "except LookupError:\n",
    "    print(\"Downloading NLTK data...\")\n",
    "    nltk.download('stopwords')\n",
    "    nltk.download('punkt')\n",
    "    nltk.download('wordnet')\n",
    "    print(\"Downloads complete.\")"
   ]
  },
  {
   "cell_type": "markdown",
   "id": "e3c36810",
   "metadata": {},
   "source": [
    "#### 1.3 Data Loading and Initial Analysis"
   ]
  },
  {
   "cell_type": "code",
   "execution_count": 8,
   "id": "d269e254",
   "metadata": {},
   "outputs": [
    {
     "name": "stdout",
     "output_type": "stream",
     "text": [
      "Dataset Info:\n",
      "<class 'pandas.core.frame.DataFrame'>\n",
      "RangeIndex: 14640 entries, 0 to 14639\n",
      "Data columns (total 2 columns):\n",
      " #   Column             Non-Null Count  Dtype \n",
      "---  ------             --------------  ----- \n",
      " 0   text               14640 non-null  object\n",
      " 1   airline_sentiment  14640 non-null  object\n",
      "dtypes: object(2)\n",
      "memory usage: 228.9+ KB\n",
      "\n",
      "First 5 rows:\n",
      "                                                text airline_sentiment\n",
      "0                @VirginAmerica What @dhepburn said.           neutral\n",
      "1  @VirginAmerica plus you've added commercials t...          positive\n",
      "2  @VirginAmerica I didn't today... Must mean I n...           neutral\n",
      "3  @VirginAmerica it's really aggressive to blast...          negative\n",
      "4  @VirginAmerica and it's a really big bad thing...          negative\n"
     ]
    }
   ],
   "source": [
    "# Define file paths\n",
    "# Note: The '..' moves one directory up from /notebooks to the project root\n",
    "DATASET_PATH = '../dataset/raw/Tweets.csv'\n",
    "MODEL_DIR = '../models'\n",
    "\n",
    "# Create models directory if it doesn't exist\n",
    "os.makedirs(MODEL_DIR, exist_ok=True)\n",
    "\n",
    "# Load the data\n",
    "df = pd.read_csv(DATASET_PATH)\n",
    "\n",
    "# Let's focus on the columns we need: 'text' and 'airline_sentiment'\n",
    "df = df[['text', 'airline_sentiment']]\n",
    "df.dropna(inplace=True)\n",
    "\n",
    "print(\"Dataset Info:\")\n",
    "df.info()\n",
    "print(\"\\nFirst 5 rows:\")\n",
    "print(df.head())"
   ]
  },
  {
   "cell_type": "markdown",
   "id": "37d54f54",
   "metadata": {},
   "source": [
    "#### 1.4 Sentiment Distribution"
   ]
  },
  {
   "cell_type": "code",
   "execution_count": 9,
   "id": "3e9aad2e",
   "metadata": {},
   "outputs": [
    {
     "data": {
      "image/png": "[encoded data removed]",
      "text/plain": [
       "<Figure size 800x500 with 1 Axes>"
      ]
     },
     "metadata": {},
     "output_type": "display_data"
    }
   ],
   "source": [
    "# Visualizing the count of each sentiment class helps us understand if the dataset is imbalanced.\n",
    "plt.figure(figsize=(8, 5))\n",
    "sns.countplot(x='airline_sentiment', data=df, order=['positive', 'neutral', 'negative'])\n",
    "plt.title('Distribution of Sentiments')\n",
    "plt.xlabel('Sentiment')\n",
    "plt.ylabel('Number of Tweets')\n",
    "plt.show()"
   ]
  },
  {
   "cell_type": "markdown",
   "id": "62b9766d",
   "metadata": {},
   "source": [
    "### 2. Universal Text Preprocessing"
   ]
  },
  {
   "cell_type": "markdown",
   "id": "ff063041",
   "metadata": {},
   "source": [
    "##### This is a crucial step to clean the raw text. We will create a single function that will be used across all models to ensure consistency. The pipeline includes:\n",
    "1.  **Regular expression** cleaning\n",
    "2.  **Case normalization**\n",
    "3.  **Tokenization**\n",
    "4.  **Stopwords removals**\n",
    "5.  **Lematization**"
   ]
  },
  {
   "cell_type": "code",
   "execution_count": 10,
   "id": "f24aeafe",
   "metadata": {},
   "outputs": [
    {
     "name": "stdout",
     "output_type": "stream",
     "text": [
      "Preprocessing text data... (This may take a moment)\n",
      "Preprocessing complete.\n",
      "Preprocessing complete.\n"
     ]
    }
   ],
   "source": [
    "# Initialize preprocessing tools\n",
    "lemmatizer = WordNetLemmatizer()\n",
    "stop_words = set(stopwords.words('english'))\n",
    "custom_stopwords = {'american', 'us', 'airways', 'air', 'airline', 'jetblue', 'virgin', 'united', 'southwest', 'flight'}\n",
    "stop_words.update(custom_stopwords)\n",
    "\n",
    "def preprocess_text(text: str) -> str:\n",
    "    \"\"\"Applies the full text cleaning pipeline to a single string.\"\"\"\n",
    "    if not isinstance(text, str):\n",
    "        return \"\"\n",
    "\n",
    "    # 1. Regex Cleaning (remove URLs, mentions, hashtags)\n",
    "    text = re.sub(r'http\\S+|www\\S+|https\\S+', '', text, flags=re.MULTILINE)\n",
    "    text = re.sub(r'\\@\\w+|\\#', '', text)\n",
    "    # 2. Remove non-alphabetic characters\n",
    "    text = re.sub(r'[^a-zA-Z\\s]', '', text)\n",
    "    # 3. Case Normalization\n",
    "    text = text.lower()\n",
    "    # 4. Tokenization\n",
    "    tokens = word_tokenize(text)\n",
    "    # 5. Stopwords Removal and Lemmatization\n",
    "    processed_tokens = [lemmatizer.lemmatize(word) for word in tokens if word not in stop_words and len(word) > 1]\n",
    "\n",
    "    return \" \".join(processed_tokens)\n",
    "\n",
    "\n",
    "# Apply the preprocessing function to our text column\n",
    "print(\"Preprocessing text data... (This may take a moment)\")\n",
    "df['processed_text'] = df['text'].apply(preprocess_text)\n",
    "print(\"Preprocessing complete.\")"
   ]
  },
  {
   "cell_type": "markdown",
   "id": "47a9b2b5",
   "metadata": {},
   "source": [
    "### 3. Part 1: Baseline Models (Scikit-learn)\n",
    "##### We will start by training and evaluating several strong baseline models."
   ]
  },
  {
   "cell_type": "code",
   "execution_count": 11,
   "id": "0ac1012b",
   "metadata": {},
   "outputs": [
    {
     "name": "stdout",
     "output_type": "stream",
     "text": [
      "Initialized results dictionary for model comparison\n"
     ]
    }
   ],
   "source": [
    "# Initialize results dictionary to track model performance across all experiments\n",
    "results = {}\n",
    "print('Initialized results dictionary for model comparison')"
   ]
  },
  {
   "cell_type": "markdown",
   "id": "604700dd",
   "metadata": {},
   "source": [
    "#### 3.1 Feature Extraction (TF-IDF with N-Grams) & Data Splitting\n",
    "##### We convert our cleaned text into numerical features using **TF-IDF Vectorization**. We include **N-Grams** (`ngram_range=(1, 2)`) to capture both single words and two-word phrases, which often carry more meaning than words in isolation."
   ]
  },
  {
   "cell_type": "code",
   "execution_count": 12,
   "id": "2b2551d9",
   "metadata": {},
   "outputs": [
    {
     "name": "stdout",
     "output_type": "stream",
     "text": [
      "Shape of TF-IDF matrix for training data: (11712, 5000)\n"
     ]
    }
   ],
   "source": [
    "# Define features (X) and target (y)\n",
    "X = df['processed_text']\n",
    "y = df['airline_sentiment']\n",
    "\n",
    "# Split the data into training and testing sets\n",
    "X_train, X_test, y_train, y_test = train_test_split(\n",
    "    X, y, test_size=0.2, random_state=42, stratify=y\n",
    ")\n",
    "\n",
    "# Initialize and fit the TF-IDF Vectorizer on the training data\n",
    "vectorizer = TfidfVectorizer(max_features=5000, ngram_range=(1, 2))\n",
    "X_train_tfidf = vectorizer.fit_transform(X_train)\n",
    "X_test_tfidf = vectorizer.transform(X_test)\n",
    "\n",
    "print(f\"Shape of TF-IDF matrix for training data: {X_train_tfidf.shape}\")"
   ]
  },
  {
   "cell_type": "markdown",
   "id": "e5b1b9e8",
   "metadata": {},
   "source": [
    "#### 3.2 Model Training and Evaluation\n",
    " We will train and evaluate the following Scikit-learn models:\n",
    " - **Support Vector Machine (SVM)**: A powerful model that finds an optimal hyperplane to separate classes.\n",
    " - **Random Forests**: An ensemble method that builds multiple decision trees and merges them to get a more accurate and stable prediction.\n",
    " - **Logistic Regression**: A reliable and interpretable linear model.\n",
    " - **Multinomial Naive Bayes**: A probabilistic model that works very well for text classification.\n",
    "\n",
    " *A Note on K-Means*: K-Means is an **unsupervised clustering** algorithm, meaning it groups data without predefined labels. Since our goal is **supervised classification** (predicting known sentiment labels), K-Means is not an appropriate choice for this task."
   ]
  },
  {
   "cell_type": "code",
   "execution_count": null,
   "id": "bfc5b84f",
   "metadata": {},
   "outputs": [
    {
     "name": "stdout",
     "output_type": "stream",
     "text": [
      "--- Training Linear SVM ---\n",
      "\n",
      "--- Evaluation for Linear SVM ---\n",
      "Accuracy: 0.7821\n",
      "\n",
      "Classification Report:\n",
      "              precision    recall  f1-score   support\n",
      "\n",
      "    positive       0.84      0.89      0.87      1835\n",
      "     neutral       0.60      0.58      0.59       620\n",
      "    negative       0.76      0.62      0.68       473\n",
      "\n",
      "    accuracy                           0.78      2928\n",
      "   macro avg       0.73      0.70      0.71      2928\n",
      "weighted avg       0.78      0.78      0.78      2928\n",
      "\n",
      "Macro-Average One-vs-Rest AUC: 0.4012\n",
      "\n"
     ]
    },
    {
     "data": {
      "image/png": "[encoded data removed]",
      "text/plain": [
       "<Figure size 800x600 with 2 Axes>"
      ]
     },
     "metadata": {},
     "output_type": "display_data"
    },
    {
     "name": "stdout",
     "output_type": "stream",
     "text": [
      "--------------------------------------------------\n",
      "\n",
      "--- Training Random Forest ---\n",
      "\n",
      "--- Evaluation for Random Forest ---\n",
      "Accuracy: 0.7647\n",
      "\n",
      "Classification Report:\n",
      "              precision    recall  f1-score   support\n",
      "\n",
      "    positive       0.80      0.90      0.85      1835\n",
      "     neutral       0.62      0.51      0.56       620\n",
      "    negative       0.75      0.56      0.64       473\n",
      "\n",
      "    accuracy                           0.76      2928\n",
      "   macro avg       0.72      0.66      0.68      2928\n",
      "weighted avg       0.76      0.76      0.76      2928\n",
      "\n",
      "Macro-Average One-vs-Rest AUC: 0.4190\n",
      "\n",
      "\n",
      "--- Evaluation for Random Forest ---\n",
      "Accuracy: 0.7647\n",
      "\n",
      "Classification Report:\n",
      "              precision    recall  f1-score   support\n",
      "\n",
      "    positive       0.80      0.90      0.85      1835\n",
      "     neutral       0.62      0.51      0.56       620\n",
      "    negative       0.75      0.56      0.64       473\n",
      "\n",
      "    accuracy                           0.76      2928\n",
      "   macro avg       0.72      0.66      0.68      2928\n",
      "weighted avg       0.76      0.76      0.76      2928\n",
      "\n",
      "Macro-Average One-vs-Rest AUC: 0.4190\n",
      "\n"
     ]
    },
    {
     "data": {
      "image/png": "[encoded data removed]",
      "text/plain": [
       "<Figure size 800x600 with 2 Axes>"
      ]
     },
     "metadata": {},
     "output_type": "display_data"
    },
    {
     "name": "stdout",
     "output_type": "stream",
     "text": [
      "--------------------------------------------------\n",
      "\n",
      "--- Training Logistic Regression ---\n"
     ]
    },
    {
     "ename": "KeyboardInterrupt",
     "evalue": "",
     "output_type": "error",
     "traceback": [
      "\u001b[31m---------------------------------------------------------------------------\u001b[39m",
      "\u001b[31mKeyboardInterrupt\u001b[39m                         Traceback (most recent call last)",
      "\u001b[36mCell\u001b[39m\u001b[36m \u001b[39m\u001b[32mIn[13]\u001b[39m\u001b[32m, line 15\u001b[39m\n\u001b[32m     13\u001b[39m \u001b[38;5;28;01mfor\u001b[39;00m name, model \u001b[38;5;129;01min\u001b[39;00m models.items():\n\u001b[32m     14\u001b[39m     \u001b[38;5;28mprint\u001b[39m(\u001b[33mf\u001b[39m\u001b[33m\"\u001b[39m\u001b[33m--- Training \u001b[39m\u001b[38;5;132;01m{\u001b[39;00mname\u001b[38;5;132;01m}\u001b[39;00m\u001b[33m ---\u001b[39m\u001b[33m\"\u001b[39m)\n\u001b[32m---> \u001b[39m\u001b[32m15\u001b[39m     \u001b[43mmodel\u001b[49m\u001b[43m.\u001b[49m\u001b[43mfit\u001b[49m\u001b[43m(\u001b[49m\u001b[43mX_train_tfidf\u001b[49m\u001b[43m,\u001b[49m\u001b[43m \u001b[49m\u001b[43my_train\u001b[49m\u001b[43m)\u001b[49m\n\u001b[32m     16\u001b[39m     y_pred = model.predict(X_test_tfidf)\n\u001b[32m     18\u001b[39m     \u001b[38;5;66;03m# Evaluation\u001b[39;00m\n",
      "\u001b[36mFile \u001b[39m\u001b[32m~/.local/lib/python3.13/site-packages/sklearn/base.py:1365\u001b[39m, in \u001b[36m_fit_context.<locals>.decorator.<locals>.wrapper\u001b[39m\u001b[34m(estimator, *args, **kwargs)\u001b[39m\n\u001b[32m   1358\u001b[39m     estimator._validate_params()\n\u001b[32m   1360\u001b[39m \u001b[38;5;28;01mwith\u001b[39;00m config_context(\n\u001b[32m   1361\u001b[39m     skip_parameter_validation=(\n\u001b[32m   1362\u001b[39m         prefer_skip_nested_validation \u001b[38;5;129;01mor\u001b[39;00m global_skip_validation\n\u001b[32m   1363\u001b[39m     )\n\u001b[32m   1364\u001b[39m ):\n\u001b[32m-> \u001b[39m\u001b[32m1365\u001b[39m     \u001b[38;5;28;01mreturn\u001b[39;00m \u001b[43mfit_method\u001b[49m\u001b[43m(\u001b[49m\u001b[43mestimator\u001b[49m\u001b[43m,\u001b[49m\u001b[43m \u001b[49m\u001b[43m*\u001b[49m\u001b[43margs\u001b[49m\u001b[43m,\u001b[49m\u001b[43m \u001b[49m\u001b[43m*\u001b[49m\u001b[43m*\u001b[49m\u001b[43mkwargs\u001b[49m\u001b[43m)\u001b[49m\n",
      "\u001b[36mFile \u001b[39m\u001b[32m~/.local/lib/python3.13/site-packages/sklearn/linear_model/_logistic.py:1384\u001b[39m, in \u001b[36mLogisticRegression.fit\u001b[39m\u001b[34m(self, X, y, sample_weight)\u001b[39m\n\u001b[32m   1381\u001b[39m \u001b[38;5;28;01melse\u001b[39;00m:\n\u001b[32m   1382\u001b[39m     n_threads = \u001b[32m1\u001b[39m\n\u001b[32m-> \u001b[39m\u001b[32m1384\u001b[39m fold_coefs_ = \u001b[43mParallel\u001b[49m\u001b[43m(\u001b[49m\u001b[43mn_jobs\u001b[49m\u001b[43m=\u001b[49m\u001b[38;5;28;43mself\u001b[39;49m\u001b[43m.\u001b[49m\u001b[43mn_jobs\u001b[49m\u001b[43m,\u001b[49m\u001b[43m \u001b[49m\u001b[43mverbose\u001b[49m\u001b[43m=\u001b[49m\u001b[38;5;28;43mself\u001b[39;49m\u001b[43m.\u001b[49m\u001b[43mverbose\u001b[49m\u001b[43m,\u001b[49m\u001b[43m \u001b[49m\u001b[43mprefer\u001b[49m\u001b[43m=\u001b[49m\u001b[43mprefer\u001b[49m\u001b[43m)\u001b[49m\u001b[43m(\u001b[49m\n\u001b[32m   1385\u001b[39m \u001b[43m    \u001b[49m\u001b[43mpath_func\u001b[49m\u001b[43m(\u001b[49m\n\u001b[32m   1386\u001b[39m \u001b[43m        \u001b[49m\u001b[43mX\u001b[49m\u001b[43m,\u001b[49m\n\u001b[32m   1387\u001b[39m \u001b[43m        \u001b[49m\u001b[43my\u001b[49m\u001b[43m,\u001b[49m\n\u001b[32m   1388\u001b[39m \u001b[43m        \u001b[49m\u001b[43mpos_class\u001b[49m\u001b[43m=\u001b[49m\u001b[43mclass_\u001b[49m\u001b[43m,\u001b[49m\n\u001b[32m   1389\u001b[39m \u001b[43m        \u001b[49m\u001b[43mCs\u001b[49m\u001b[43m=\u001b[49m\u001b[43m[\u001b[49m\u001b[43mC_\u001b[49m\u001b[43m]\u001b[49m\u001b[43m,\u001b[49m\n\u001b[32m   1390\u001b[39m \u001b[43m        \u001b[49m\u001b[43ml1_ratio\u001b[49m\u001b[43m=\u001b[49m\u001b[38;5;28;43mself\u001b[39;49m\u001b[43m.\u001b[49m\u001b[43ml1_ratio\u001b[49m\u001b[43m,\u001b[49m\n\u001b[32m   1391\u001b[39m \u001b[43m        \u001b[49m\u001b[43mfit_intercept\u001b[49m\u001b[43m=\u001b[49m\u001b[38;5;28;43mself\u001b[39;49m\u001b[43m.\u001b[49m\u001b[43mfit_intercept\u001b[49m\u001b[43m,\u001b[49m\n\u001b[32m   1392\u001b[39m \u001b[43m        \u001b[49m\u001b[43mtol\u001b[49m\u001b[43m=\u001b[49m\u001b[38;5;28;43mself\u001b[39;49m\u001b[43m.\u001b[49m\u001b[43mtol\u001b[49m\u001b[43m,\u001b[49m\n\u001b[32m   1393\u001b[39m \u001b[43m        \u001b[49m\u001b[43mverbose\u001b[49m\u001b[43m=\u001b[49m\u001b[38;5;28;43mself\u001b[39;49m\u001b[43m.\u001b[49m\u001b[43mverbose\u001b[49m\u001b[43m,\u001b[49m\n\u001b[32m   1394\u001b[39m \u001b[43m        \u001b[49m\u001b[43msolver\u001b[49m\u001b[43m=\u001b[49m\u001b[43msolver\u001b[49m\u001b[43m,\u001b[49m\n\u001b[32m   1395\u001b[39m \u001b[43m        \u001b[49m\u001b[43mmulti_class\u001b[49m\u001b[43m=\u001b[49m\u001b[43mmulti_class\u001b[49m\u001b[43m,\u001b[49m\n\u001b[32m   1396\u001b[39m \u001b[43m        \u001b[49m\u001b[43mmax_iter\u001b[49m\u001b[43m=\u001b[49m\u001b[38;5;28;43mself\u001b[39;49m\u001b[43m.\u001b[49m\u001b[43mmax_iter\u001b[49m\u001b[43m,\u001b[49m\n\u001b[32m   1397\u001b[39m \u001b[43m        \u001b[49m\u001b[43mclass_weight\u001b[49m\u001b[43m=\u001b[49m\u001b[38;5;28;43mself\u001b[39;49m\u001b[43m.\u001b[49m\u001b[43mclass_weight\u001b[49m\u001b[43m,\u001b[49m\n\u001b[32m   1398\u001b[39m \u001b[43m        \u001b[49m\u001b[43mcheck_input\u001b[49m\u001b[43m=\u001b[49m\u001b[38;5;28;43;01mFalse\u001b[39;49;00m\u001b[43m,\u001b[49m\n\u001b[32m   1399\u001b[39m \u001b[43m        \u001b[49m\u001b[43mrandom_state\u001b[49m\u001b[43m=\u001b[49m\u001b[38;5;28;43mself\u001b[39;49m\u001b[43m.\u001b[49m\u001b[43mrandom_state\u001b[49m\u001b[43m,\u001b[49m\n\u001b[32m   1400\u001b[39m \u001b[43m        \u001b[49m\u001b[43mcoef\u001b[49m\u001b[43m=\u001b[49m\u001b[43mwarm_start_coef_\u001b[49m\u001b[43m,\u001b[49m\n\u001b[32m   1401\u001b[39m \u001b[43m        \u001b[49m\u001b[43mpenalty\u001b[49m\u001b[43m=\u001b[49m\u001b[43mpenalty\u001b[49m\u001b[43m,\u001b[49m\n\u001b[32m   1402\u001b[39m \u001b[43m        \u001b[49m\u001b[43mmax_squared_sum\u001b[49m\u001b[43m=\u001b[49m\u001b[43mmax_squared_sum\u001b[49m\u001b[43m,\u001b[49m\n\u001b[32m   1403\u001b[39m \u001b[43m        \u001b[49m\u001b[43msample_weight\u001b[49m\u001b[43m=\u001b[49m\u001b[43msample_weight\u001b[49m\u001b[43m,\u001b[49m\n\u001b[32m   1404\u001b[39m \u001b[43m        \u001b[49m\u001b[43mn_threads\u001b[49m\u001b[43m=\u001b[49m\u001b[43mn_threads\u001b[49m\u001b[43m,\u001b[49m\n\u001b[32m   1405\u001b[39m \u001b[43m    \u001b[49m\u001b[43m)\u001b[49m\n\u001b[32m   1406\u001b[39m \u001b[43m    \u001b[49m\u001b[38;5;28;43;01mfor\u001b[39;49;00m\u001b[43m \u001b[49m\u001b[43mclass_\u001b[49m\u001b[43m,\u001b[49m\u001b[43m \u001b[49m\u001b[43mwarm_start_coef_\u001b[49m\u001b[43m \u001b[49m\u001b[38;5;129;43;01min\u001b[39;49;00m\u001b[43m \u001b[49m\u001b[38;5;28;43mzip\u001b[39;49m\u001b[43m(\u001b[49m\u001b[43mclasses_\u001b[49m\u001b[43m,\u001b[49m\u001b[43m \u001b[49m\u001b[43mwarm_start_coef\u001b[49m\u001b[43m)\u001b[49m\n\u001b[32m   1407\u001b[39m \u001b[43m\u001b[49m\u001b[43m)\u001b[49m\n\u001b[32m   1409\u001b[39m fold_coefs_, _, n_iter_ = \u001b[38;5;28mzip\u001b[39m(*fold_coefs_)\n\u001b[32m   1410\u001b[39m \u001b[38;5;28mself\u001b[39m.n_iter_ = np.asarray(n_iter_, dtype=np.int32)[:, \u001b[32m0\u001b[39m]\n",
      "\u001b[36mFile \u001b[39m\u001b[32m~/.local/lib/python3.13/site-packages/sklearn/utils/parallel.py:82\u001b[39m, in \u001b[36mParallel.__call__\u001b[39m\u001b[34m(self, iterable)\u001b[39m\n\u001b[32m     73\u001b[39m warning_filters = warnings.filters\n\u001b[32m     74\u001b[39m iterable_with_config_and_warning_filters = (\n\u001b[32m     75\u001b[39m     (\n\u001b[32m     76\u001b[39m         _with_config_and_warning_filters(delayed_func, config, warning_filters),\n\u001b[32m   (...)\u001b[39m\u001b[32m     80\u001b[39m     \u001b[38;5;28;01mfor\u001b[39;00m delayed_func, args, kwargs \u001b[38;5;129;01min\u001b[39;00m iterable\n\u001b[32m     81\u001b[39m )\n\u001b[32m---> \u001b[39m\u001b[32m82\u001b[39m \u001b[38;5;28;01mreturn\u001b[39;00m \u001b[38;5;28;43msuper\u001b[39;49m\u001b[43m(\u001b[49m\u001b[43m)\u001b[49m\u001b[43m.\u001b[49m\u001b[34;43m__call__\u001b[39;49m\u001b[43m(\u001b[49m\u001b[43miterable_with_config_and_warning_filters\u001b[49m\u001b[43m)\u001b[49m\n",
      "\u001b[36mFile \u001b[39m\u001b[32m~/.local/lib/python3.13/site-packages/joblib/parallel.py:1986\u001b[39m, in \u001b[36mParallel.__call__\u001b[39m\u001b[34m(self, iterable)\u001b[39m\n\u001b[32m   1984\u001b[39m     output = \u001b[38;5;28mself\u001b[39m._get_sequential_output(iterable)\n\u001b[32m   1985\u001b[39m     \u001b[38;5;28mnext\u001b[39m(output)\n\u001b[32m-> \u001b[39m\u001b[32m1986\u001b[39m     \u001b[38;5;28;01mreturn\u001b[39;00m output \u001b[38;5;28;01mif\u001b[39;00m \u001b[38;5;28mself\u001b[39m.return_generator \u001b[38;5;28;01melse\u001b[39;00m \u001b[38;5;28;43mlist\u001b[39;49m\u001b[43m(\u001b[49m\u001b[43moutput\u001b[49m\u001b[43m)\u001b[49m\n\u001b[32m   1988\u001b[39m \u001b[38;5;66;03m# Let's create an ID that uniquely identifies the current call. If the\u001b[39;00m\n\u001b[32m   1989\u001b[39m \u001b[38;5;66;03m# call is interrupted early and that the same instance is immediately\u001b[39;00m\n\u001b[32m   1990\u001b[39m \u001b[38;5;66;03m# reused, this id will be used to prevent workers that were\u001b[39;00m\n\u001b[32m   1991\u001b[39m \u001b[38;5;66;03m# concurrently finalizing a task from the previous call to run the\u001b[39;00m\n\u001b[32m   1992\u001b[39m \u001b[38;5;66;03m# callback.\u001b[39;00m\n\u001b[32m   1993\u001b[39m \u001b[38;5;28;01mwith\u001b[39;00m \u001b[38;5;28mself\u001b[39m._lock:\n",
      "\u001b[36mFile \u001b[39m\u001b[32m~/.local/lib/python3.13/site-packages/joblib/parallel.py:1914\u001b[39m, in \u001b[36mParallel._get_sequential_output\u001b[39m\u001b[34m(self, iterable)\u001b[39m\n\u001b[32m   1912\u001b[39m \u001b[38;5;28mself\u001b[39m.n_dispatched_batches += \u001b[32m1\u001b[39m\n\u001b[32m   1913\u001b[39m \u001b[38;5;28mself\u001b[39m.n_dispatched_tasks += \u001b[32m1\u001b[39m\n\u001b[32m-> \u001b[39m\u001b[32m1914\u001b[39m res = \u001b[43mfunc\u001b[49m\u001b[43m(\u001b[49m\u001b[43m*\u001b[49m\u001b[43margs\u001b[49m\u001b[43m,\u001b[49m\u001b[43m \u001b[49m\u001b[43m*\u001b[49m\u001b[43m*\u001b[49m\u001b[43mkwargs\u001b[49m\u001b[43m)\u001b[49m\n\u001b[32m   1915\u001b[39m \u001b[38;5;28mself\u001b[39m.n_completed_tasks += \u001b[32m1\u001b[39m\n\u001b[32m   1916\u001b[39m \u001b[38;5;28mself\u001b[39m.print_progress()\n",
      "\u001b[36mFile \u001b[39m\u001b[32m~/.local/lib/python3.13/site-packages/sklearn/utils/parallel.py:147\u001b[39m, in \u001b[36m_FuncWrapper.__call__\u001b[39m\u001b[34m(self, *args, **kwargs)\u001b[39m\n\u001b[32m    145\u001b[39m \u001b[38;5;28;01mwith\u001b[39;00m config_context(**config), warnings.catch_warnings():\n\u001b[32m    146\u001b[39m     warnings.filters = warning_filters\n\u001b[32m--> \u001b[39m\u001b[32m147\u001b[39m     \u001b[38;5;28;01mreturn\u001b[39;00m \u001b[38;5;28;43mself\u001b[39;49m\u001b[43m.\u001b[49m\u001b[43mfunction\u001b[49m\u001b[43m(\u001b[49m\u001b[43m*\u001b[49m\u001b[43margs\u001b[49m\u001b[43m,\u001b[49m\u001b[43m \u001b[49m\u001b[43m*\u001b[49m\u001b[43m*\u001b[49m\u001b[43mkwargs\u001b[49m\u001b[43m)\u001b[49m\n",
      "\u001b[36mFile \u001b[39m\u001b[32m~/.local/lib/python3.13/site-packages/sklearn/linear_model/_logistic.py:459\u001b[39m, in \u001b[36m_logistic_regression_path\u001b[39m\u001b[34m(X, y, pos_class, Cs, fit_intercept, max_iter, tol, verbose, solver, coef, class_weight, dual, penalty, intercept_scaling, multi_class, random_state, check_input, max_squared_sum, sample_weight, l1_ratio, n_threads)\u001b[39m\n\u001b[32m    455\u001b[39m l2_reg_strength = \u001b[32m1.0\u001b[39m / (C * sw_sum)\n\u001b[32m    456\u001b[39m iprint = [-\u001b[32m1\u001b[39m, \u001b[32m50\u001b[39m, \u001b[32m1\u001b[39m, \u001b[32m100\u001b[39m, \u001b[32m101\u001b[39m][\n\u001b[32m    457\u001b[39m     np.searchsorted(np.array([\u001b[32m0\u001b[39m, \u001b[32m1\u001b[39m, \u001b[32m2\u001b[39m, \u001b[32m3\u001b[39m]), verbose)\n\u001b[32m    458\u001b[39m ]\n\u001b[32m--> \u001b[39m\u001b[32m459\u001b[39m opt_res = \u001b[43moptimize\u001b[49m\u001b[43m.\u001b[49m\u001b[43mminimize\u001b[49m\u001b[43m(\u001b[49m\n\u001b[32m    460\u001b[39m \u001b[43m    \u001b[49m\u001b[43mfunc\u001b[49m\u001b[43m,\u001b[49m\n\u001b[32m    461\u001b[39m \u001b[43m    \u001b[49m\u001b[43mw0\u001b[49m\u001b[43m,\u001b[49m\n\u001b[32m    462\u001b[39m \u001b[43m    \u001b[49m\u001b[43mmethod\u001b[49m\u001b[43m=\u001b[49m\u001b[33;43m\"\u001b[39;49m\u001b[33;43mL-BFGS-B\u001b[39;49m\u001b[33;43m\"\u001b[39;49m\u001b[43m,\u001b[49m\n\u001b[32m    463\u001b[39m \u001b[43m    \u001b[49m\u001b[43mjac\u001b[49m\u001b[43m=\u001b[49m\u001b[38;5;28;43;01mTrue\u001b[39;49;00m\u001b[43m,\u001b[49m\n\u001b[32m    464\u001b[39m \u001b[43m    \u001b[49m\u001b[43margs\u001b[49m\u001b[43m=\u001b[49m\u001b[43m(\u001b[49m\u001b[43mX\u001b[49m\u001b[43m,\u001b[49m\u001b[43m \u001b[49m\u001b[43mtarget\u001b[49m\u001b[43m,\u001b[49m\u001b[43m \u001b[49m\u001b[43msample_weight\u001b[49m\u001b[43m,\u001b[49m\u001b[43m \u001b[49m\u001b[43ml2_reg_strength\u001b[49m\u001b[43m,\u001b[49m\u001b[43m \u001b[49m\u001b[43mn_threads\u001b[49m\u001b[43m)\u001b[49m\u001b[43m,\u001b[49m\n\u001b[32m    465\u001b[39m \u001b[43m    \u001b[49m\u001b[43moptions\u001b[49m\u001b[43m=\u001b[49m\u001b[43m{\u001b[49m\n\u001b[32m    466\u001b[39m \u001b[43m        \u001b[49m\u001b[33;43m\"\u001b[39;49m\u001b[33;43mmaxiter\u001b[39;49m\u001b[33;43m\"\u001b[39;49m\u001b[43m:\u001b[49m\u001b[43m \u001b[49m\u001b[43mmax_iter\u001b[49m\u001b[43m,\u001b[49m\n\u001b[32m    467\u001b[39m \u001b[43m        \u001b[49m\u001b[33;43m\"\u001b[39;49m\u001b[33;43mmaxls\u001b[39;49m\u001b[33;43m\"\u001b[39;49m\u001b[43m:\u001b[49m\u001b[43m \u001b[49m\u001b[32;43m50\u001b[39;49m\u001b[43m,\u001b[49m\u001b[43m  \u001b[49m\u001b[38;5;66;43;03m# default is 20\u001b[39;49;00m\n\u001b[32m    468\u001b[39m \u001b[43m        \u001b[49m\u001b[33;43m\"\u001b[39;49m\u001b[33;43mgtol\u001b[39;49m\u001b[33;43m\"\u001b[39;49m\u001b[43m:\u001b[49m\u001b[43m \u001b[49m\u001b[43mtol\u001b[49m\u001b[43m,\u001b[49m\n\u001b[32m    469\u001b[39m \u001b[43m        \u001b[49m\u001b[33;43m\"\u001b[39;49m\u001b[33;43mftol\u001b[39;49m\u001b[33;43m\"\u001b[39;49m\u001b[43m:\u001b[49m\u001b[43m \u001b[49m\u001b[32;43m64\u001b[39;49m\u001b[43m \u001b[49m\u001b[43m*\u001b[49m\u001b[43m \u001b[49m\u001b[43mnp\u001b[49m\u001b[43m.\u001b[49m\u001b[43mfinfo\u001b[49m\u001b[43m(\u001b[49m\u001b[38;5;28;43mfloat\u001b[39;49m\u001b[43m)\u001b[49m\u001b[43m.\u001b[49m\u001b[43meps\u001b[49m\u001b[43m,\u001b[49m\n\u001b[32m    470\u001b[39m \u001b[43m        \u001b[49m\u001b[43m*\u001b[49m\u001b[43m*\u001b[49m\u001b[43m_get_additional_lbfgs_options_dict\u001b[49m\u001b[43m(\u001b[49m\u001b[33;43m\"\u001b[39;49m\u001b[33;43miprint\u001b[39;49m\u001b[33;43m\"\u001b[39;49m\u001b[43m,\u001b[49m\u001b[43m \u001b[49m\u001b[43miprint\u001b[49m\u001b[43m)\u001b[49m\u001b[43m,\u001b[49m\n\u001b[32m    471\u001b[39m \u001b[43m    \u001b[49m\u001b[43m}\u001b[49m\u001b[43m,\u001b[49m\n\u001b[32m    472\u001b[39m \u001b[43m\u001b[49m\u001b[43m)\u001b[49m\n\u001b[32m    473\u001b[39m n_iter_i = _check_optimize_result(\n\u001b[32m    474\u001b[39m     solver,\n\u001b[32m    475\u001b[39m     opt_res,\n\u001b[32m    476\u001b[39m     max_iter,\n\u001b[32m    477\u001b[39m     extra_warning_msg=_LOGISTIC_SOLVER_CONVERGENCE_MSG,\n\u001b[32m    478\u001b[39m )\n\u001b[32m    479\u001b[39m w0, loss = opt_res.x, opt_res.fun\n",
      "\u001b[36mFile \u001b[39m\u001b[32m~/.local/lib/python3.13/site-packages/scipy/optimize/_minimize.py:784\u001b[39m, in \u001b[36mminimize\u001b[39m\u001b[34m(fun, x0, args, method, jac, hess, hessp, bounds, constraints, tol, callback, options)\u001b[39m\n\u001b[32m    781\u001b[39m     res = _minimize_newtoncg(fun, x0, args, jac, hess, hessp, callback,\n\u001b[32m    782\u001b[39m                              **options)\n\u001b[32m    783\u001b[39m \u001b[38;5;28;01melif\u001b[39;00m meth == \u001b[33m'\u001b[39m\u001b[33ml-bfgs-b\u001b[39m\u001b[33m'\u001b[39m:\n\u001b[32m--> \u001b[39m\u001b[32m784\u001b[39m     res = \u001b[43m_minimize_lbfgsb\u001b[49m\u001b[43m(\u001b[49m\u001b[43mfun\u001b[49m\u001b[43m,\u001b[49m\u001b[43m \u001b[49m\u001b[43mx0\u001b[49m\u001b[43m,\u001b[49m\u001b[43m \u001b[49m\u001b[43margs\u001b[49m\u001b[43m,\u001b[49m\u001b[43m \u001b[49m\u001b[43mjac\u001b[49m\u001b[43m,\u001b[49m\u001b[43m \u001b[49m\u001b[43mbounds\u001b[49m\u001b[43m,\u001b[49m\n\u001b[32m    785\u001b[39m \u001b[43m                           \u001b[49m\u001b[43mcallback\u001b[49m\u001b[43m=\u001b[49m\u001b[43mcallback\u001b[49m\u001b[43m,\u001b[49m\u001b[43m \u001b[49m\u001b[43m*\u001b[49m\u001b[43m*\u001b[49m\u001b[43moptions\u001b[49m\u001b[43m)\u001b[49m\n\u001b[32m    786\u001b[39m \u001b[38;5;28;01melif\u001b[39;00m meth == \u001b[33m'\u001b[39m\u001b[33mtnc\u001b[39m\u001b[33m'\u001b[39m:\n\u001b[32m    787\u001b[39m     res = _minimize_tnc(fun, x0, args, jac, bounds, callback=callback,\n\u001b[32m    788\u001b[39m                         **options)\n",
      "\u001b[36mFile \u001b[39m\u001b[32m~/.local/lib/python3.13/site-packages/scipy/optimize/_lbfgsb_py.py:469\u001b[39m, in \u001b[36m_minimize_lbfgsb\u001b[39m\u001b[34m(fun, x0, args, jac, bounds, disp, maxcor, ftol, gtol, eps, maxfun, maxiter, iprint, callback, maxls, finite_diff_rel_step, workers, **unknown_options)\u001b[39m\n\u001b[32m    461\u001b[39m _lbfgsb.setulb(m, x, low_bnd, upper_bnd, nbd, f, g, factr, pgtol, wa,\n\u001b[32m    462\u001b[39m                iwa, task, lsave, isave, dsave, maxls, ln_task)\n\u001b[32m    464\u001b[39m \u001b[38;5;28;01mif\u001b[39;00m task[\u001b[32m0\u001b[39m] == \u001b[32m3\u001b[39m:\n\u001b[32m    465\u001b[39m     \u001b[38;5;66;03m# The minimization routine wants f and g at the current x.\u001b[39;00m\n\u001b[32m    466\u001b[39m     \u001b[38;5;66;03m# Note that interruptions due to maxfun are postponed\u001b[39;00m\n\u001b[32m    467\u001b[39m     \u001b[38;5;66;03m# until the completion of the current minimization iteration.\u001b[39;00m\n\u001b[32m    468\u001b[39m     \u001b[38;5;66;03m# Overwrite f and g:\u001b[39;00m\n\u001b[32m--> \u001b[39m\u001b[32m469\u001b[39m     f, g = \u001b[43mfunc_and_grad\u001b[49m\u001b[43m(\u001b[49m\u001b[43mx\u001b[49m\u001b[43m)\u001b[49m\n\u001b[32m    470\u001b[39m \u001b[38;5;28;01melif\u001b[39;00m task[\u001b[32m0\u001b[39m] == \u001b[32m1\u001b[39m:\n\u001b[32m    471\u001b[39m     \u001b[38;5;66;03m# new iteration\u001b[39;00m\n\u001b[32m    472\u001b[39m     n_iterations += \u001b[32m1\u001b[39m\n",
      "\u001b[36mFile \u001b[39m\u001b[32m~/.local/lib/python3.13/site-packages/scipy/optimize/_differentiable_functions.py:403\u001b[39m, in \u001b[36mScalarFunction.fun_and_grad\u001b[39m\u001b[34m(self, x)\u001b[39m\n\u001b[32m    401\u001b[39m \u001b[38;5;28;01mif\u001b[39;00m \u001b[38;5;129;01mnot\u001b[39;00m np.array_equal(x, \u001b[38;5;28mself\u001b[39m.x):\n\u001b[32m    402\u001b[39m     \u001b[38;5;28mself\u001b[39m._update_x(x)\n\u001b[32m--> \u001b[39m\u001b[32m403\u001b[39m \u001b[38;5;28;43mself\u001b[39;49m\u001b[43m.\u001b[49m\u001b[43m_update_fun\u001b[49m\u001b[43m(\u001b[49m\u001b[43m)\u001b[49m\n\u001b[32m    404\u001b[39m \u001b[38;5;28mself\u001b[39m._update_grad()\n\u001b[32m    405\u001b[39m \u001b[38;5;28;01mreturn\u001b[39;00m \u001b[38;5;28mself\u001b[39m.f, \u001b[38;5;28mself\u001b[39m.g\n",
      "\u001b[36mFile \u001b[39m\u001b[32m~/.local/lib/python3.13/site-packages/scipy/optimize/_differentiable_functions.py:353\u001b[39m, in \u001b[36mScalarFunction._update_fun\u001b[39m\u001b[34m(self)\u001b[39m\n\u001b[32m    351\u001b[39m \u001b[38;5;28;01mdef\u001b[39;00m\u001b[38;5;250m \u001b[39m\u001b[34m_update_fun\u001b[39m(\u001b[38;5;28mself\u001b[39m):\n\u001b[32m    352\u001b[39m     \u001b[38;5;28;01mif\u001b[39;00m \u001b[38;5;129;01mnot\u001b[39;00m \u001b[38;5;28mself\u001b[39m.f_updated:\n\u001b[32m--> \u001b[39m\u001b[32m353\u001b[39m         fx = \u001b[38;5;28;43mself\u001b[39;49m\u001b[43m.\u001b[49m\u001b[43m_wrapped_fun\u001b[49m\u001b[43m(\u001b[49m\u001b[38;5;28;43mself\u001b[39;49m\u001b[43m.\u001b[49m\u001b[43mx\u001b[49m\u001b[43m)\u001b[49m\n\u001b[32m    354\u001b[39m         \u001b[38;5;28mself\u001b[39m._nfev += \u001b[32m1\u001b[39m\n\u001b[32m    355\u001b[39m         \u001b[38;5;28;01mif\u001b[39;00m fx < \u001b[38;5;28mself\u001b[39m._lowest_f:\n",
      "\u001b[36mFile \u001b[39m\u001b[32m~/.local/lib/python3.13/site-packages/scipy/_lib/_util.py:590\u001b[39m, in \u001b[36m_ScalarFunctionWrapper.__call__\u001b[39m\u001b[34m(self, x)\u001b[39m\n\u001b[32m    587\u001b[39m \u001b[38;5;28;01mdef\u001b[39;00m\u001b[38;5;250m \u001b[39m\u001b[34m__call__\u001b[39m(\u001b[38;5;28mself\u001b[39m, x):\n\u001b[32m    588\u001b[39m     \u001b[38;5;66;03m# Send a copy because the user may overwrite it.\u001b[39;00m\n\u001b[32m    589\u001b[39m     \u001b[38;5;66;03m# The user of this class might want `x` to remain unchanged.\u001b[39;00m\n\u001b[32m--> \u001b[39m\u001b[32m590\u001b[39m     fx = \u001b[38;5;28;43mself\u001b[39;49m\u001b[43m.\u001b[49m\u001b[43mf\u001b[49m\u001b[43m(\u001b[49m\u001b[43mnp\u001b[49m\u001b[43m.\u001b[49m\u001b[43mcopy\u001b[49m\u001b[43m(\u001b[49m\u001b[43mx\u001b[49m\u001b[43m)\u001b[49m\u001b[43m,\u001b[49m\u001b[43m \u001b[49m\u001b[43m*\u001b[49m\u001b[38;5;28;43mself\u001b[39;49m\u001b[43m.\u001b[49m\u001b[43margs\u001b[49m\u001b[43m)\u001b[49m\n\u001b[32m    591\u001b[39m     \u001b[38;5;28mself\u001b[39m.nfev += \u001b[32m1\u001b[39m\n\u001b[32m    593\u001b[39m     \u001b[38;5;66;03m# Make sure the function returns a true scalar\u001b[39;00m\n",
      "\u001b[36mFile \u001b[39m\u001b[32m~/.local/lib/python3.13/site-packages/scipy/optimize/_optimize.py:80\u001b[39m, in \u001b[36mMemoizeJac.__call__\u001b[39m\u001b[34m(self, x, *args)\u001b[39m\n\u001b[32m     78\u001b[39m \u001b[38;5;28;01mdef\u001b[39;00m\u001b[38;5;250m \u001b[39m\u001b[34m__call__\u001b[39m(\u001b[38;5;28mself\u001b[39m, x, *args):\n\u001b[32m     79\u001b[39m \u001b[38;5;250m    \u001b[39m\u001b[33;03m\"\"\" returns the function value \"\"\"\u001b[39;00m\n\u001b[32m---> \u001b[39m\u001b[32m80\u001b[39m     \u001b[38;5;28;43mself\u001b[39;49m\u001b[43m.\u001b[49m\u001b[43m_compute_if_needed\u001b[49m\u001b[43m(\u001b[49m\u001b[43mx\u001b[49m\u001b[43m,\u001b[49m\u001b[43m \u001b[49m\u001b[43m*\u001b[49m\u001b[43margs\u001b[49m\u001b[43m)\u001b[49m\n\u001b[32m     81\u001b[39m     \u001b[38;5;28;01mreturn\u001b[39;00m \u001b[38;5;28mself\u001b[39m._value\n",
      "\u001b[36mFile \u001b[39m\u001b[32m~/.local/lib/python3.13/site-packages/scipy/optimize/_optimize.py:74\u001b[39m, in \u001b[36mMemoizeJac._compute_if_needed\u001b[39m\u001b[34m(self, x, *args)\u001b[39m\n\u001b[32m     72\u001b[39m \u001b[38;5;28;01mif\u001b[39;00m \u001b[38;5;129;01mnot\u001b[39;00m np.all(x == \u001b[38;5;28mself\u001b[39m.x) \u001b[38;5;129;01mor\u001b[39;00m \u001b[38;5;28mself\u001b[39m._value \u001b[38;5;129;01mis\u001b[39;00m \u001b[38;5;28;01mNone\u001b[39;00m \u001b[38;5;129;01mor\u001b[39;00m \u001b[38;5;28mself\u001b[39m.jac \u001b[38;5;129;01mis\u001b[39;00m \u001b[38;5;28;01mNone\u001b[39;00m:\n\u001b[32m     73\u001b[39m     \u001b[38;5;28mself\u001b[39m.x = np.asarray(x).copy()\n\u001b[32m---> \u001b[39m\u001b[32m74\u001b[39m     fg = \u001b[38;5;28;43mself\u001b[39;49m\u001b[43m.\u001b[49m\u001b[43mfun\u001b[49m\u001b[43m(\u001b[49m\u001b[43mx\u001b[49m\u001b[43m,\u001b[49m\u001b[43m \u001b[49m\u001b[43m*\u001b[49m\u001b[43margs\u001b[49m\u001b[43m)\u001b[49m\n\u001b[32m     75\u001b[39m     \u001b[38;5;28mself\u001b[39m.jac = fg[\u001b[32m1\u001b[39m]\n\u001b[32m     76\u001b[39m     \u001b[38;5;28mself\u001b[39m._value = fg[\u001b[32m0\u001b[39m]\n",
      "\u001b[36mFile \u001b[39m\u001b[32m~/.local/lib/python3.13/site-packages/sklearn/linear_model/_linear_loss.py:324\u001b[39m, in \u001b[36mLinearModelLoss.loss_gradient\u001b[39m\u001b[34m(self, coef, X, y, sample_weight, l2_reg_strength, n_threads, raw_prediction)\u001b[39m\n\u001b[32m    322\u001b[39m sw_sum = n_samples \u001b[38;5;28;01mif\u001b[39;00m sample_weight \u001b[38;5;129;01mis\u001b[39;00m \u001b[38;5;28;01mNone\u001b[39;00m \u001b[38;5;28;01melse\u001b[39;00m np.sum(sample_weight)\n\u001b[32m    323\u001b[39m loss = loss.sum() / sw_sum\n\u001b[32m--> \u001b[39m\u001b[32m324\u001b[39m loss += \u001b[38;5;28;43mself\u001b[39;49m\u001b[43m.\u001b[49m\u001b[43ml2_penalty\u001b[49m\u001b[43m(\u001b[49m\u001b[43mweights\u001b[49m\u001b[43m,\u001b[49m\u001b[43m \u001b[49m\u001b[43ml2_reg_strength\u001b[49m\u001b[43m)\u001b[49m\n\u001b[32m    326\u001b[39m grad_pointwise /= sw_sum\n\u001b[32m    328\u001b[39m \u001b[38;5;28;01mif\u001b[39;00m \u001b[38;5;129;01mnot\u001b[39;00m \u001b[38;5;28mself\u001b[39m.base_loss.is_multiclass:\n",
      "\u001b[36mFile \u001b[39m\u001b[32m~/.local/lib/python3.13/site-packages/sklearn/linear_model/_linear_loss.py:209\u001b[39m, in \u001b[36mLinearModelLoss.l2_penalty\u001b[39m\u001b[34m(self, weights, l2_reg_strength)\u001b[39m\n\u001b[32m    207\u001b[39m \u001b[38;5;28;01mdef\u001b[39;00m\u001b[38;5;250m \u001b[39m\u001b[34ml2_penalty\u001b[39m(\u001b[38;5;28mself\u001b[39m, weights, l2_reg_strength):\n\u001b[32m    208\u001b[39m \u001b[38;5;250m    \u001b[39m\u001b[33;03m\"\"\"Compute L2 penalty term l2_reg_strength/2 *||w||_2^2.\"\"\"\u001b[39;00m\n\u001b[32m--> \u001b[39m\u001b[32m209\u001b[39m     norm2_w = weights @ weights \u001b[38;5;28;01mif\u001b[39;00m weights.ndim == \u001b[32m1\u001b[39m \u001b[38;5;28;01melse\u001b[39;00m \u001b[43msquared_norm\u001b[49m\u001b[43m(\u001b[49m\u001b[43mweights\u001b[49m\u001b[43m)\u001b[49m\n\u001b[32m    210\u001b[39m     \u001b[38;5;28;01mreturn\u001b[39;00m \u001b[32m0.5\u001b[39m * l2_reg_strength * norm2_w\n",
      "\u001b[36mFile \u001b[39m\u001b[32m~/.local/lib/python3.13/site-packages/sklearn/utils/extmath.py:44\u001b[39m, in \u001b[36msquared_norm\u001b[39m\u001b[34m(x)\u001b[39m\n\u001b[32m     36\u001b[39m \u001b[38;5;28;01mif\u001b[39;00m np.issubdtype(x.dtype, np.integer):\n\u001b[32m     37\u001b[39m     warnings.warn(\n\u001b[32m     38\u001b[39m         (\n\u001b[32m     39\u001b[39m             \u001b[33m\"\u001b[39m\u001b[33mArray type is integer, np.dot may overflow. \u001b[39m\u001b[33m\"\u001b[39m\n\u001b[32m   (...)\u001b[39m\u001b[32m     42\u001b[39m         \u001b[38;5;167;01mUserWarning\u001b[39;00m,\n\u001b[32m     43\u001b[39m     )\n\u001b[32m---> \u001b[39m\u001b[32m44\u001b[39m \u001b[38;5;28;01mreturn\u001b[39;00m \u001b[43mnp\u001b[49m\u001b[43m.\u001b[49m\u001b[43mdot\u001b[49m\u001b[43m(\u001b[49m\u001b[43mx\u001b[49m\u001b[43m,\u001b[49m\u001b[43m \u001b[49m\u001b[43mx\u001b[49m\u001b[43m)\u001b[49m\n",
      "\u001b[31mKeyboardInterrupt\u001b[39m: "
     ]
    }
   ],
   "source": [
    "# Define the models we want to train\n",
    "# Limit n_jobs to prevent CPU overload (use 4 cores max instead of -1 which uses all cores)\n",
    "models = {\n",
    "    \"Linear SVM\": LinearSVC(random_state=42),\n",
    "    \"Random Forest\": RandomForestClassifier(random_state=42, n_jobs=4),  # Limited to 4 cores\n",
    "    \"Logistic Regression\": LogisticRegression(max_iter=1000, random_state=42, n_jobs=4),  # Limited to 4 cores\n",
    "    \"Multinomial Naive Bayes\": MultinomialNB()\n",
    "}\n",
    "\n",
    "# Binarize the labels for AUC calculation\n",
    "y_test_binarized = label_binarize(y_test, classes=['positive', 'neutral', 'negative'])\n",
    "class_labels = ['positive', 'neutral', 'negative']\n",
    "\n",
    "for name, model in models.items():\n",
    "    print(f\"--- Training {name} ---\")\n",
    "    model.fit(X_train_tfidf, y_train)\n",
    "    y_pred = model.predict(X_test_tfidf)\n",
    "    \n",
    "    # Evaluation\n",
    "    print(f\"\\n--- Evaluation for {name} ---\")\n",
    "    print(f\"Accuracy: {accuracy_score(y_test, y_pred):.4f}\")\n",
    "    print(\"\\nClassification Report:\")\n",
    "    print(classification_report(y_test, y_pred, target_names=class_labels))\n",
    "    \n",
    "    if hasattr(model, \"predict_proba\"):\n",
    "        y_pred_proba = model.predict_proba(X_test_tfidf)\n",
    "    else: # For SVM which uses decision_function\n",
    "        y_pred_proba = model.decision_function(X_test_tfidf)\n",
    "        # We need to reshape for 3-class problem\n",
    "        if len(y_pred_proba.shape) == 1:\n",
    "             y_pred_proba = np.vstack([-y_pred_proba, y_pred_proba]).T\n",
    "    \n",
    "    # Ensure y_pred_proba has 3 columns for 3 classes for AUC calculation\n",
    "    if y_pred_proba.shape[1] == 2 and len(class_labels) == 3:\n",
    "        # A common case for binary classifiers on multi-class data\n",
    "        # We can't calculate multi-class AUC directly, so we'll skip it.\n",
    "        print(\"Skipping Macro-Average AUC for this model.\")\n",
    "    elif y_pred_proba.shape[1] != len(class_labels):\n",
    "         print(\"Skipping Macro-Average AUC due to shape mismatch.\")\n",
    "    else:\n",
    "        auc_score = roc_auc_score(y_test_binarized, y_pred_proba, multi_class='ovr', average='macro')\n",
    "        print(f\"Macro-Average One-vs-Rest AUC: {auc_score:.4f}\\n\")\n",
    "\n",
    "\n",
    "    cm = confusion_matrix(y_test, y_pred, labels=class_labels)\n",
    "    plt.figure(figsize=(8, 6))\n",
    "    sns.heatmap(cm, annot=True, fmt='d', cmap='Blues', xticklabels=class_labels, yticklabels=class_labels)\n",
    "    plt.title(f'Confusion Matrix for {name}')\n",
    "    plt.ylabel('Actual')\n",
    "    plt.xlabel('Predicted')\n",
    "    plt.show()\n",
    "    print(\"-\" * 50 + \"\\n\")"
   ]
  },
  {
   "cell_type": "markdown",
   "id": "581fb95e",
   "metadata": {},
   "source": [
    "### 4. Part 2: Deep Learning Models\n",
    "##### Now we'll build more complex models: a Recurrent Neural Network (LSTM) and discuss a state-of-the-art Transformer."
   ]
  },
  {
   "cell_type": "markdown",
   "id": "0170a9e4",
   "metadata": {},
   "source": [
    "#### 4.1 Advanced Model: RNN/LSTM\n",
    "This requires a different preprocessing pipeline to convert text into sequences of integers for the Embedding layer."
   ]
  },
  {
   "cell_type": "markdown",
   "id": "2a60287c",
   "metadata": {},
   "source": [
    "#### 4.1.1 Preprocessing for LSTM (Tokenization & Padding)"
   ]
  },
  {
   "cell_type": "code",
   "execution_count": null,
   "id": "db81b700",
   "metadata": {},
   "outputs": [
    {
     "name": "stdout",
     "output_type": "stream",
     "text": [
      "Class order for Deep Learning models: ['negative', 'neutral', 'positive']\n",
      "\n",
      "Shape of LSTM training data: (11712, 100)\n",
      "Shape of LSTM training labels: (11712, 3)\n",
      "\n",
      "Shape of LSTM training data: (11712, 100)\n",
      "Shape of LSTM training labels: (11712, 3)\n"
     ]
    },
    {
     "name": "stderr",
     "output_type": "stream",
     "text": [
      "<>:14: SyntaxWarning: invalid escape sequence '\\]'\n",
      "<>:14: SyntaxWarning: invalid escape sequence '\\]'\n",
      "/tmp/ipykernel_28321/2949635175.py:14: SyntaxWarning: invalid escape sequence '\\]'\n",
      "  keras_tokenizer = Tokenizer(num_words=MAX_NB_WORDS, filters='!\"#$%&()*+,-./:;<=>?@[\\]^_`{|}~', lower=True)\n"
     ]
    }
   ],
   "source": [
    "# Keras Tokenizer parameters\n",
    "MAX_NB_WORDS = 10000\n",
    "MAX_SEQUENCE_LENGTH = 100\n",
    "EMBEDDING_DIM = 128\n",
    "\n",
    "# One-hot encode the labels and get the defined class order\n",
    "y_encoded_df = pd.get_dummies(df['airline_sentiment'])\n",
    "y_encoded = y_encoded_df.values\n",
    "class_labels_deep_learning = y_encoded_df.columns.tolist() # Robustly get class order\n",
    "print(f\"Class order for Deep Learning models: {class_labels_deep_learning}\")\n",
    "\n",
    "\n",
    "# Create and fit the tokenizer\n",
    "keras_tokenizer = Tokenizer(num_words=MAX_NB_WORDS, filters='!\"#$%&()*+,-./:;<=>?@[\\]^_`{|}~', lower=True)\n",
    "keras_tokenizer.fit_on_texts(df['processed_text'].values)\n",
    "\n",
    "# Convert text to sequences and pad them\n",
    "X_seq = keras_tokenizer.texts_to_sequences(df['processed_text'].values)\n",
    "X_pad = pad_sequences(X_seq, maxlen=MAX_SEQUENCE_LENGTH)\n",
    "\n",
    "# Split the data for the LSTM model\n",
    "X_train_lstm, X_test_lstm, y_train_lstm, y_test_lstm = train_test_split(\n",
    "    X_pad, y_encoded, test_size=0.2, random_state=42, stratify=y_encoded\n",
    ")\n",
    "\n",
    "print(f\"\\nShape of LSTM training data: {X_train_lstm.shape}\")\n",
    "print(f\"Shape of LSTM training labels: {y_train_lstm.shape}\")"
   ]
  },
  {
   "cell_type": "markdown",
   "id": "b4e41645",
   "metadata": {},
   "source": [
    "#### 4.1.2 Building and Training the LSTM Model"
   ]
  },
  {
   "cell_type": "code",
   "execution_count": null,
   "id": "a022b5bc",
   "metadata": {},
   "outputs": [
    {
     "name": "stderr",
     "output_type": "stream",
     "text": [
      "/home/chanhengmenh/.conda/envs/sentiment_analysis_env/lib/python3.13/site-packages/keras/src/layers/core/embedding.py:97: UserWarning: Argument `input_length` is deprecated. Just remove it.\n",
      "  warnings.warn(\n",
      "WARNING: All log messages before absl::InitializeLog() is called are written to STDERR\n",
      "E0000 00:00:1759692049.383877   28321 cuda_executor.cc:1309] INTERNAL: CUDA Runtime error: Failed call to cudaGetRuntimeVersion: Error loading CUDA libraries. GPU will not be used.: Error loading CUDA libraries. GPU will not be used.\n",
      "W0000 00:00:1759692049.390185   28321 gpu_device.cc:2342] Cannot dlopen some GPU libraries. Please make sure the missing libraries mentioned above are installed properly if you would like to use GPU. Follow the guide at https://www.tensorflow.org/install/gpu for how to download and setup the required libraries for your platform.\n",
      "Skipping registering GPU devices...\n",
      "WARNING: All log messages before absl::InitializeLog() is called are written to STDERR\n",
      "E0000 00:00:1759692049.383877   28321 cuda_executor.cc:1309] INTERNAL: CUDA Runtime error: Failed call to cudaGetRuntimeVersion: Error loading CUDA libraries. GPU will not be used.: Error loading CUDA libraries. GPU will not be used.\n",
      "W0000 00:00:1759692049.390185   28321 gpu_device.cc:2342] Cannot dlopen some GPU libraries. Please make sure the missing libraries mentioned above are installed properly if you would like to use GPU. Follow the guide at https://www.tensorflow.org/install/gpu for how to download and setup the required libraries for your platform.\n",
      "Skipping registering GPU devices...\n"
     ]
    },
    {
     "data": {
      "text/html": [
       "<pre style=\"white-space:pre;overflow-x:auto;line-height:normal;font-family:Menlo,'DejaVu Sans Mono',consolas,'Courier New',monospace\"><span style=\"font-weight: bold\">Model: \"sequential\"</span>\n",
       "</pre>\n"
      ],
      "text/plain": [
       "\u001b[1mModel: \"sequential\"\u001b[0m\n"
      ]
     },
     "metadata": {},
     "output_type": "display_data"
    },
    {
     "data": {
      "text/html": [
       "<pre style=\"white-space:pre;overflow-x:auto;line-height:normal;font-family:Menlo,'DejaVu Sans Mono',consolas,'Courier New',monospace\">┏━━━━━━━━━━━━━━━━━━━━━━━━━━━━━━━━━┳━━━━━━━━━━━━━━━━━━━━━━━━┳━━━━━━━━━━━━━━━┓\n",
       "┃<span style=\"font-weight: bold\"> Layer (type)                    </span>┃<span style=\"font-weight: bold\"> Output Shape           </span>┃<span style=\"font-weight: bold\">       Param # </span>┃\n",
       "┡━━━━━━━━━━━━━━━━━━━━━━━━━━━━━━━━━╇━━━━━━━━━━━━━━━━━━━━━━━━╇━━━━━━━━━━━━━━━┩\n",
       "│ embedding (<span style=\"color: #0087ff; text-decoration-color: #0087ff\">Embedding</span>)           │ ?                      │   <span style=\"color: #00af00; text-decoration-color: #00af00\">0</span> (unbuilt) │\n",
       "├─────────────────────────────────┼────────────────────────┼───────────────┤\n",
       "│ spatial_dropout1d               │ ?                      │             <span style=\"color: #00af00; text-decoration-color: #00af00\">0</span> │\n",
       "│ (<span style=\"color: #0087ff; text-decoration-color: #0087ff\">SpatialDropout1D</span>)              │                        │               │\n",
       "├─────────────────────────────────┼────────────────────────┼───────────────┤\n",
       "│ bidirectional (<span style=\"color: #0087ff; text-decoration-color: #0087ff\">Bidirectional</span>)   │ ?                      │   <span style=\"color: #00af00; text-decoration-color: #00af00\">0</span> (unbuilt) │\n",
       "├─────────────────────────────────┼────────────────────────┼───────────────┤\n",
       "│ dense (<span style=\"color: #0087ff; text-decoration-color: #0087ff\">Dense</span>)                   │ ?                      │   <span style=\"color: #00af00; text-decoration-color: #00af00\">0</span> (unbuilt) │\n",
       "└─────────────────────────────────┴────────────────────────┴───────────────┘\n",
       "</pre>\n"
      ],
      "text/plain": [
       "┏━━━━━━━━━━━━━━━━━━━━━━━━━━━━━━━━━┳━━━━━━━━━━━━━━━━━━━━━━━━┳━━━━━━━━━━━━━━━┓\n",
       "┃\u001b[1m \u001b[0m\u001b[1mLayer (type)                   \u001b[0m\u001b[1m \u001b[0m┃\u001b[1m \u001b[0m\u001b[1mOutput Shape          \u001b[0m\u001b[1m \u001b[0m┃\u001b[1m \u001b[0m\u001b[1m      Param #\u001b[0m\u001b[1m \u001b[0m┃\n",
       "┡━━━━━━━━━━━━━━━━━━━━━━━━━━━━━━━━━╇━━━━━━━━━━━━━━━━━━━━━━━━╇━━━━━━━━━━━━━━━┩\n",
       "│ embedding (\u001b[38;5;33mEmbedding\u001b[0m)           │ ?                      │   \u001b[38;5;34m0\u001b[0m (unbuilt) │\n",
       "├─────────────────────────────────┼────────────────────────┼───────────────┤\n",
       "│ spatial_dropout1d               │ ?                      │             \u001b[38;5;34m0\u001b[0m │\n",
       "│ (\u001b[38;5;33mSpatialDropout1D\u001b[0m)              │                        │               │\n",
       "├─────────────────────────────────┼────────────────────────┼───────────────┤\n",
       "│ bidirectional (\u001b[38;5;33mBidirectional\u001b[0m)   │ ?                      │   \u001b[38;5;34m0\u001b[0m (unbuilt) │\n",
       "├─────────────────────────────────┼────────────────────────┼───────────────┤\n",
       "│ dense (\u001b[38;5;33mDense\u001b[0m)                   │ ?                      │   \u001b[38;5;34m0\u001b[0m (unbuilt) │\n",
       "└─────────────────────────────────┴────────────────────────┴───────────────┘\n"
      ]
     },
     "metadata": {},
     "output_type": "display_data"
    },
    {
     "data": {
      "text/html": [
       "<pre style=\"white-space:pre;overflow-x:auto;line-height:normal;font-family:Menlo,'DejaVu Sans Mono',consolas,'Courier New',monospace\"><span style=\"font-weight: bold\"> Total params: </span><span style=\"color: #00af00; text-decoration-color: #00af00\">0</span> (0.00 B)\n",
       "</pre>\n"
      ],
      "text/plain": [
       "\u001b[1m Total params: \u001b[0m\u001b[38;5;34m0\u001b[0m (0.00 B)\n"
      ]
     },
     "metadata": {},
     "output_type": "display_data"
    },
    {
     "data": {
      "text/html": [
       "<pre style=\"white-space:pre;overflow-x:auto;line-height:normal;font-family:Menlo,'DejaVu Sans Mono',consolas,'Courier New',monospace\"><span style=\"font-weight: bold\"> Trainable params: </span><span style=\"color: #00af00; text-decoration-color: #00af00\">0</span> (0.00 B)\n",
       "</pre>\n"
      ],
      "text/plain": [
       "\u001b[1m Trainable params: \u001b[0m\u001b[38;5;34m0\u001b[0m (0.00 B)\n"
      ]
     },
     "metadata": {},
     "output_type": "display_data"
    },
    {
     "data": {
      "text/html": [
       "<pre style=\"white-space:pre;overflow-x:auto;line-height:normal;font-family:Menlo,'DejaVu Sans Mono',consolas,'Courier New',monospace\"><span style=\"font-weight: bold\"> Non-trainable params: </span><span style=\"color: #00af00; text-decoration-color: #00af00\">0</span> (0.00 B)\n",
       "</pre>\n"
      ],
      "text/plain": [
       "\u001b[1m Non-trainable params: \u001b[0m\u001b[38;5;34m0\u001b[0m (0.00 B)\n"
      ]
     },
     "metadata": {},
     "output_type": "display_data"
    },
    {
     "name": "stdout",
     "output_type": "stream",
     "text": [
      "None\n",
      "Epoch 1/5\n",
      "\u001b[1m165/165\u001b[0m \u001b[32m━━━━━━━━━━━━━━━━━━━━\u001b[0m\u001b[37m\u001b[0m \u001b[1m9s\u001b[0m 44ms/step - accuracy: 0.6878 - loss: 0.7405 - val_accuracy: 0.7654 - val_loss: 0.5714\n",
      "Epoch 2/5\n",
      "\u001b[1m165/165\u001b[0m \u001b[32m━━━━━━━━━━━━━━━━━━━━\u001b[0m\u001b[37m\u001b[0m \u001b[1m9s\u001b[0m 44ms/step - accuracy: 0.6878 - loss: 0.7405 - val_accuracy: 0.7654 - val_loss: 0.5714\n",
      "Epoch 2/5\n",
      "\u001b[1m165/165\u001b[0m \u001b[32m━━━━━━━━━━━━━━━━━━━━\u001b[0m\u001b[37m\u001b[0m \u001b[1m8s\u001b[0m 48ms/step - accuracy: 0.8148 - loss: 0.4782 - val_accuracy: 0.7986 - val_loss: 0.5352\n",
      "Epoch 3/5\n",
      "\u001b[1m165/165\u001b[0m \u001b[32m━━━━━━━━━━━━━━━━━━━━\u001b[0m\u001b[37m\u001b[0m \u001b[1m8s\u001b[0m 48ms/step - accuracy: 0.8148 - loss: 0.4782 - val_accuracy: 0.7986 - val_loss: 0.5352\n",
      "Epoch 3/5\n",
      "\u001b[1m165/165\u001b[0m \u001b[32m━━━━━━━━━━━━━━━━━━━━\u001b[0m\u001b[37m\u001b[0m \u001b[1m9s\u001b[0m 54ms/step - accuracy: 0.8620 - loss: 0.3586 - val_accuracy: 0.7901 - val_loss: 0.5491\n",
      "Epoch 4/5\n",
      "\u001b[1m165/165\u001b[0m \u001b[32m━━━━━━━━━━━━━━━━━━━━\u001b[0m\u001b[37m\u001b[0m \u001b[1m9s\u001b[0m 54ms/step - accuracy: 0.8620 - loss: 0.3586 - val_accuracy: 0.7901 - val_loss: 0.5491\n",
      "Epoch 4/5\n",
      "\u001b[1m165/165\u001b[0m \u001b[32m━━━━━━━━━━━━━━━━━━━━\u001b[0m\u001b[37m\u001b[0m \u001b[1m9s\u001b[0m 54ms/step - accuracy: 0.8958 - loss: 0.2796 - val_accuracy: 0.7867 - val_loss: 0.6069\n",
      "Epoch 5/5\n",
      "\u001b[1m165/165\u001b[0m \u001b[32m━━━━━━━━━━━━━━━━━━━━\u001b[0m\u001b[37m\u001b[0m \u001b[1m9s\u001b[0m 54ms/step - accuracy: 0.8958 - loss: 0.2796 - val_accuracy: 0.7867 - val_loss: 0.6069\n",
      "Epoch 5/5\n",
      "\u001b[1m165/165\u001b[0m \u001b[32m━━━━━━━━━━━━━━━━━━━━\u001b[0m\u001b[37m\u001b[0m \u001b[1m9s\u001b[0m 54ms/step - accuracy: 0.9164 - loss: 0.2293 - val_accuracy: 0.7867 - val_loss: 0.6693\n",
      "\u001b[1m165/165\u001b[0m \u001b[32m━━━━━━━━━━━━━━━━━━━━\u001b[0m\u001b[37m\u001b[0m \u001b[1m9s\u001b[0m 54ms/step - accuracy: 0.9164 - loss: 0.2293 - val_accuracy: 0.7867 - val_loss: 0.6693\n"
     ]
    }
   ],
   "source": [
    "# Build an enhanced RNN+LSTM hybrid model for higher accuracy (target >80%)\n",
    "model_lstm = Sequential()\n",
    "\n",
    "# Embedding layer\n",
    "model_lstm.add(Embedding(MAX_NB_WORDS, EMBEDDING_DIM, input_length=X_pad.shape[1]))\n",
    "model_lstm.add(SpatialDropout1D(0.3))\n",
    "\n",
    "# First Bidirectional LSTM layer (RNN component) - returns sequences for stacking\n",
    "model_lstm.add(Bidirectional(LSTM(128, dropout=0.3, recurrent_dropout=0.3, return_sequences=True)))\n",
    "\n",
    "# Second Bidirectional LSTM layer - deeper learning\n",
    "model_lstm.add(Bidirectional(LSTM(64, dropout=0.3, recurrent_dropout=0.3)))\n",
    "\n",
    "# Dense layers for better classification\n",
    "model_lstm.add(Dense(64, activation='relu'))\n",
    "model_lstm.add(tf.keras.layers.Dropout(0.3))\n",
    "model_lstm.add(Dense(32, activation='relu'))\n",
    "model_lstm.add(tf.keras.layers.Dropout(0.2))\n",
    "\n",
    "# Output layer\n",
    "model_lstm.add(Dense(len(class_labels_deep_learning), activation='softmax'))\n",
    "\n",
    "# Compile with optimized learning rate\n",
    "optimizer = tf.keras.optimizers.Adam(learning_rate=0.001)\n",
    "model_lstm.compile(loss='categorical_crossentropy', optimizer=optimizer, metrics=['accuracy'])\n",
    "print(model_lstm.summary())\n",
    "\n",
    "# Train the model with early stopping and learning rate reduction\n",
    "early_stop = EarlyStopping(monitor='val_loss', patience=5, min_delta=0.0001, restore_best_weights=True)\n",
    "reduce_lr = tf.keras.callbacks.ReduceLROnPlateau(monitor='val_loss', factor=0.5, patience=3, min_lr=0.00001, verbose=1)\n",
    "\n",
    "history = model_lstm.fit(\n",
    "    X_train_lstm, y_train_lstm,\n",
    "    epochs=15,  # More epochs for better convergence\n",
    "    batch_size=32,  # Smaller batch size for better generalization\n",
    "    validation_split=0.15,  # Larger validation set\n",
    "    callbacks=[early_stop, reduce_lr],\n",
    "    verbose=1\n",
    ")\n",
    "\n",
    "# Plot training history\n",
    "plt.figure(figsize=(12, 4))\n",
    "plt.subplot(1, 2, 1)\n",
    "plt.plot(history.history['accuracy'], label='Training Accuracy')\n",
    "plt.plot(history.history['val_accuracy'], label='Validation Accuracy')\n",
    "plt.title('Model Accuracy')\n",
    "plt.xlabel('Epoch')\n",
    "plt.ylabel('Accuracy')\n",
    "plt.legend()\n",
    "plt.grid(True)\n",
    "\n",
    "plt.subplot(1, 2, 2)\n",
    "plt.plot(history.history['loss'], label='Training Loss')\n",
    "plt.plot(history.history['val_loss'], label='Validation Loss')\n",
    "plt.title('Model Loss')\n",
    "plt.xlabel('Epoch')\n",
    "plt.ylabel('Loss')\n",
    "plt.legend()\n",
    "plt.grid(True)\n",
    "plt.tight_layout()\n",
    "plt.show()\n",
    "\n",
    "print(f\"\\nBest Validation Accuracy: {max(history.history['val_accuracy']):.4f}\")"
   ]
  },
  {
   "cell_type": "markdown",
   "id": "9b6d525b",
   "metadata": {},
   "source": [
    "#### 4.1.3 Evaluating the LSTM Model"
   ]
  },
  {
   "cell_type": "code",
   "execution_count": null,
   "id": "517d93ac",
   "metadata": {},
   "outputs": [
    {
     "name": "stdout",
     "output_type": "stream",
     "text": [
      "92/92 - 1s - 9ms/step - accuracy: 0.7879 - loss: 0.6330\n",
      "\n",
      "LSTM Model Accuracy: 0.7879\n",
      "\n",
      "LSTM Model Accuracy: 0.7879\n",
      "\u001b[1m92/92\u001b[0m \u001b[32m━━━━━━━━━━━━━━━━━━━━\u001b[0m\u001b[37m\u001b[0m \u001b[1m1s\u001b[0m 11ms/step\n",
      "\u001b[1m92/92\u001b[0m \u001b[32m━━━━━━━━━━━━━━━━━━━━\u001b[0m\u001b[37m\u001b[0m \u001b[1m1s\u001b[0m 11ms/step\n",
      "\n",
      "LSTM Classification Report:\n",
      "              precision    recall  f1-score   support\n",
      "\n",
      "    negative       0.85      0.88      0.87      1835\n",
      "     neutral       0.64      0.55      0.59       620\n",
      "    positive       0.70      0.76      0.73       473\n",
      "\n",
      "    accuracy                           0.79      2928\n",
      "   macro avg       0.73      0.73      0.73      2928\n",
      "weighted avg       0.78      0.79      0.78      2928\n",
      "\n",
      "\n",
      "LSTM Classification Report:\n",
      "              precision    recall  f1-score   support\n",
      "\n",
      "    negative       0.85      0.88      0.87      1835\n",
      "     neutral       0.64      0.55      0.59       620\n",
      "    positive       0.70      0.76      0.73       473\n",
      "\n",
      "    accuracy                           0.79      2928\n",
      "   macro avg       0.73      0.73      0.73      2928\n",
      "weighted avg       0.78      0.79      0.78      2928\n",
      "\n"
     ]
    },
    {
     "data": {
      "image/png": "[encoded data removed]",
      "text/plain": [
       "<Figure size 800x600 with 2 Axes>"
      ]
     },
     "metadata": {},
     "output_type": "display_data"
    }
   ],
   "source": [
    "# Evaluate on the test set\n",
    "loss, accuracy_lstm = model_lstm.evaluate(X_test_lstm, y_test_lstm, verbose=2)\n",
    "results['LSTM'] = accuracy_lstm\n",
    "print(f\"\\nLSTM Model Accuracy: {accuracy_lstm:.4f}\")\n",
    "\n",
    "# Generate classification report and confusion matrix\n",
    "y_pred_lstm_proba = model_lstm.predict(X_test_lstm)\n",
    "y_pred_lstm = np.argmax(y_pred_lstm_proba, axis=1)\n",
    "y_test_labels = np.argmax(y_test_lstm, axis=1)\n",
    "\n",
    "y_pred_lstm_labels = [class_labels_deep_learning[i] for i in y_pred_lstm]\n",
    "y_test_actual_labels = [class_labels_deep_learning[i] for i in y_test_labels]\n",
    "\n",
    "print(\"\\nLSTM Classification Report:\")\n",
    "print(classification_report(y_test_actual_labels, y_pred_lstm_labels, labels=class_labels_deep_learning))\n",
    "\n",
    "cm_lstm = confusion_matrix(y_test_actual_labels, y_pred_lstm_labels, labels=class_labels_deep_learning)\n",
    "plt.figure(figsize=(8, 6))\n",
    "sns.heatmap(cm_lstm, annot=True, fmt='d', cmap='Blues', xticklabels=class_labels_deep_learning, yticklabels=class_labels_deep_learning)\n",
    "plt.title('Confusion Matrix for LSTM Model')\n",
    "plt.ylabel('Actual')\n",
    "plt.xlabel('Predicted')\n",
    "plt.show()"
   ]
  },
  {
   "cell_type": "code",
   "execution_count": null,
   "id": "76eb24fa",
   "metadata": {},
   "outputs": [
    {
     "name": "stdout",
     "output_type": "stream",
     "text": [
      "Initialized results dict\n"
     ]
    }
   ],
   "source": [
    "# Initialize results dictionary for model comparisons\n",
    "results = {}\n",
    "print('Initialized results dict')"
   ]
  },
  {
   "cell_type": "code",
   "execution_count": null,
   "id": "facd2b32",
   "metadata": {},
   "outputs": [
    {
     "name": "stdout",
     "output_type": "stream",
     "text": [
      "results dict contents: {}\n"
     ]
    }
   ],
   "source": [
    "# Quick check to show results dictionary contents\n",
    "try:\n",
    "    print('results dict contents:', results)\n",
    "except Exception as e:\n",
    "    print('Error printing results:', repr(e))"
   ]
  },
  {
   "cell_type": "markdown",
   "id": "f3c79989",
   "metadata": {},
   "source": [
    "### 4.2 State-of-the-Art Model: Transformer (RoBERTa)\n",
    "**Transformers (like RoBERTa)** represent the current state-of-the-art. RoBERTa (A Robustly Optimized BERT Pretraining Approach) improves upon BERT's pre-training strategy, allowing it to often achieve better performance."
   ]
  },
  {
   "cell_type": "markdown",
   "id": "93b6a255",
   "metadata": {},
   "source": [
    "#### 4.2.1 A Note on Computational Resources\n",
    "**Warning**: Fine-tuning a Transformer model is highly resource-intensive and slow without a GPU. To make this notebook runnable in a standard environment, we will **train on a small subset of the data (1000 samples) for only one epoch**. The resulting accuracy will not be optimal but will serve as a proof-of-concept for the implementation pipeline."
   ]
  },
  {
   "cell_type": "code",
   "execution_count": null,
   "id": "31b3b81e",
   "metadata": {},
   "outputs": [],
   "source": [
    "# Create a smaller subset for demonstration\n",
    "SUBSET_SIZE = 1000\n",
    "X_train_sub = X_train[:SUBSET_SIZE]\n",
    "y_train_sub = y_train[:SUBSET_SIZE]\n",
    "X_test_sub = X_test[:SUBSET_SIZE]\n",
    "y_test_sub = y_test[:SUBSET_SIZE]\n",
    "\n",
    "# Load RoBERTa Tokenizer\n",
    "tokenizer_roberta = RobertaTokenizer.from_pretrained('roberta-base')\n",
    "\n",
    "# Tokenize the data subsets\n",
    "train_encodings = tokenizer_roberta(X_train_sub.tolist(), truncation=True, padding=True, max_length=128)\n",
    "test_encodings = tokenizer_roberta(X_test_sub.tolist(), truncation=True, padding=True, max_length=128)\n",
    "\n",
    "# Convert labels to one-hot encoding\n",
    "y_train_encoded_sub = pd.get_dummies(y_train_sub)[class_labels_deep_learning].values\n",
    "y_test_encoded_sub = pd.get_dummies(y_test_sub)[class_labels_deep_learning].values\n",
    "\n",
    "# Create TensorFlow Datasets\n",
    "train_dataset = tf.data.Dataset.from_tensor_slices((dict(train_encodings), y_train_encoded_sub))\n",
    "test_dataset = tf.data.Dataset.from_tensor_slices((dict(test_encodings), y_test_encoded_sub))"
   ]
  },
  {
   "cell_type": "markdown",
   "id": "00d0af68",
   "metadata": {},
   "source": [
    "#### 4.2.2 Preparing Data for RoBERTa"
   ]
  },
  {
   "cell_type": "code",
   "execution_count": null,
   "id": "8b3ecaab",
   "metadata": {},
   "outputs": [
    {
     "name": "stdout",
     "output_type": "stream",
     "text": [
      "Class order for Deep Learning models: ['negative', 'neutral', 'positive']\n",
      "\n",
      "Shape of LSTM training data: (11712, 100)\n",
      "Shape of LSTM training labels: (11712, 3)\n"
     ]
    },
    {
     "name": "stderr",
     "output_type": "stream",
     "text": [
      "<>:14: SyntaxWarning: invalid escape sequence '\\]'\n",
      "<>:14: SyntaxWarning: invalid escape sequence '\\]'\n",
      "/tmp/ipykernel_28321/2949635175.py:14: SyntaxWarning: invalid escape sequence '\\]'\n",
      "  keras_tokenizer = Tokenizer(num_words=MAX_NB_WORDS, filters='!\"#$%&()*+,-./:;<=>?@[\\]^_`{|}~', lower=True)\n"
     ]
    }
   ],
   "source": [
    "# Keras Tokenizer parameters\n",
    "MAX_NB_WORDS = 10000\n",
    "MAX_SEQUENCE_LENGTH = 100\n",
    "EMBEDDING_DIM = 128\n",
    "\n",
    "# One-hot encode the labels and get the defined class order\n",
    "y_encoded_df = pd.get_dummies(df['airline_sentiment'])\n",
    "y_encoded = y_encoded_df.values\n",
    "class_labels_deep_learning = y_encoded_df.columns.tolist() # Robustly get class order\n",
    "print(f\"Class order for Deep Learning models: {class_labels_deep_learning}\")\n",
    "\n",
    "\n",
    "# Create and fit the tokenizer\n",
    "keras_tokenizer = Tokenizer(num_words=MAX_NB_WORDS, filters='!\"#$%&()*+,-./:;<=>?@[\\]^_`{|}~', lower=True)\n",
    "keras_tokenizer.fit_on_texts(df['processed_text'].values)\n",
    "\n",
    "# Convert text to sequences and pad them\n",
    "X_seq = keras_tokenizer.texts_to_sequences(df['processed_text'].values)\n",
    "X_pad = pad_sequences(X_seq, maxlen=MAX_SEQUENCE_LENGTH)\n",
    "\n",
    "# Split the data for the LSTM model\n",
    "X_train_lstm, X_test_lstm, y_train_lstm, y_test_lstm = train_test_split(\n",
    "    X_pad, y_encoded, test_size=0.2, random_state=42, stratify=y_encoded\n",
    ")\n",
    "\n",
    "print(f\"\\nShape of LSTM training data: {X_train_lstm.shape}\")\n",
    "print(f\"Shape of LSTM training labels: {y_train_lstm.shape}\")"
   ]
  },
  {
   "cell_type": "code",
   "execution_count": null,
   "id": "ac74e1a6",
   "metadata": {},
   "outputs": [
    {
     "name": "stdout",
     "output_type": "stream",
     "text": [
      "Attempting to load pre-trained RoBERTa for sequence classification...\n"
     ]
    },
    {
     "name": "stderr",
     "output_type": "stream",
     "text": [
      "TensorFlow and JAX classes are deprecated and will be removed in Transformers v5. We recommend migrating to PyTorch classes or pinning your version of Transformers.\n"
     ]
    },
    {
     "name": "stdout",
     "output_type": "stream",
     "text": [
      "Primary load failed: TypeError(\"'builtins.safe_open' object is not iterable\")\n",
      "Local load also failed: TypeError(\"'builtins.safe_open' object is not iterable\")\n",
      "\n",
      "Unable to load a Hugging Face RoBERTa model in this environment.\n",
      "Creating a lightweight TF-IDF + LogisticRegression fallback model to allow the notebook pipeline to proceed as a demonstration.\n",
      "Fallback TF-IDF + LogisticRegression model created for demonstration.\n",
      "Local load also failed: TypeError(\"'builtins.safe_open' object is not iterable\")\n",
      "\n",
      "Unable to load a Hugging Face RoBERTa model in this environment.\n",
      "Creating a lightweight TF-IDF + LogisticRegression fallback model to allow the notebook pipeline to proceed as a demonstration.\n",
      "Fallback TF-IDF + LogisticRegression model created for demonstration.\n"
     ]
    }
   ],
   "source": [
    "# Load and compile RoBERTa model for sequence classification with a robust fallback\n",
    "print(\"Attempting to load pre-trained RoBERTa for sequence classification...\")\n",
    "# Basic guard: ensure preprocessed data or splits exist before attempting to load or create fallback\n",
    "if not any(name in globals() for name in ['df', 'X_train_sub', 'X_train', 'X']):\n",
    "    print('Data variables (df, X_train, or X_train_sub) are not present in the kernel.\\nPlease run the earlier cells (imports, preprocessing, TF-IDF, and train/test splitting) before running RoBERTa steps.\\nSkipping RoBERTa setup for now.')\n",
    "    model_roberta = None\n",
    "else:\n",
    "    num_labels = len(class_labels_deep_learning) if 'class_labels_deep_learning' in globals() else 3\n",
    "    model_roberta = None\n",
    "\n",
    "    # Primary attempt: normal from_pretrained (requires internet or cached model files)\n",
    "    try:\n",
    "        model_roberta = TFRobertaForSequenceClassification.from_pretrained('roberta-base', num_labels=num_labels)\n",
    "        print('Loaded RoBERTa from Hugging Face cache / hub.')\n",
    "    except Exception as e1:\n",
    "        print('Primary load failed:', repr(e1))\n",
    "        # Fallback: attempt to load only from local files\n",
    "        try:\n",
    "            model_roberta = TFRobertaForSequenceClassification.from_pretrained('roberta-base', num_labels=num_labels, local_files_only=True)\n",
    "            print('Loaded RoBERTa from local cache.')\n",
    "        except Exception as e2:\n",
    "            print('Local load also failed:', repr(e2))\n",
    "            print('\\nUnable to load a Hugging Face RoBERTa model in this environment.\\nCreating a lightweight TF-IDF + LogisticRegression fallback model to allow the notebook pipeline to proceed as a demonstration.')\n",
    "            # Create a fallback model that exposes the same minimal API used below: fit(), evaluate(dataset) -> (loss, accuracy) and predict(dataset) -> object with .logits property.\n",
    "            from types import SimpleNamespace\n",
    "            from sklearn.linear_model import LogisticRegression\n",
    "            from sklearn.feature_extraction.text import TfidfVectorizer\n",
    "\n",
    "            class FallbackRoBERTa:\n",
    "                \"\"\"Simple fallback that uses TF-IDF + LogisticRegression trained on the same subset.\n",
    "                It provides fit(), evaluate(dataset) -> (loss, accuracy) and predict(dataset) -> object with .logits property.\n",
    "                This is a demonstration-only substitute and will not match a true transformer's performance.\n",
    "                \"\"\"\n",
    "                def __init__(self, clf, vectorizer, class_order, X_train_text=None, y_train_text=None, X_test_text=None, y_test_text=None):\n",
    "                    self.clf = clf\n",
    "                    self.vectorizer = vectorizer\n",
    "                    self.class_order = class_order\n",
    "                    # optional data (strings and labels) to use for training/eval when fit() is called with tf.dataset\n",
    "                    self.X_train_text = X_train_text\n",
    "                    self.y_train_text = y_train_text\n",
    "                    self.X_test_text = X_test_text\n",
    "                    self.y_test_text = y_test_text\n",
    "\n",
    "                def fit(self, dataset=None, epochs=1, batch_size=16):\n",
    "                    # Prefer using explicitly provided subset variables if available\n",
    "                    if self.X_train_text is None or self.y_train_text is None:\n",
    "                        try:\n",
    "                            X_fit = X_train_sub\n",
    "                            y_fit = y_train_sub\n",
    "                        except NameError:\n",
    "                            # try full train split\n",
    "                            try:\n",
    "                                X_fit = X_train\n",
    "                                y_fit = y_train\n",
    "                            except NameError:\n",
    "                                try:\n",
    "                                    X_fit = X\n",
    "                                    y_fit = y\n",
    "                                except NameError:\n",
    "                                    try:\n",
    "                                        X_fit = df['processed_text'].tolist()\n",
    "                                        y_fit = df['airline_sentiment'].tolist()\n",
    "                                    except Exception:\n",
    "                                        print('No training data available for fallback; skipping training of fallback model.')\n",
    "                                        return self\n",
    "                    else:\n",
    "                        X_fit = self.X_train_text\n",
    "                        y_fit = self.y_train_text\n",
    "\n",
    "                    X_feat = self.vectorizer.transform(X_fit)\n",
    "                    # For the classifier, ensure labels are in string form expected elsewhere (e.g., 'positive')\n",
    "                    self.clf.fit(X_feat, y_fit)\n",
    "                    return self\n",
    "\n",
    "                def evaluate(self, dataset_batch):\n",
    "                    try:\n",
    "                        X_eval = X_test_sub\n",
    "                        y_eval = y_test_sub\n",
    "                    except NameError:\n",
    "                        try:\n",
    "                            X_eval = X_test\n",
    "                            y_eval = y_test\n",
    "                        except NameError:\n",
    "                            try:\n",
    "                                X_eval = X\n",
    "                                y_eval = y\n",
    "                            except NameError:\n",
    "                                try:\n",
    "                                    X_eval = df['processed_text'].tolist()\n",
    "                                    y_eval = df['airline_sentiment'].tolist()\n",
    "                                except Exception:\n",
    "                                    print('No evaluation data available for fallback; returning (None, 0.0)')\n",
    "                                    return (None, 0.0)\n",
    "                    X_feat = self.vectorizer.transform(X_eval)\n",
    "                    y_pred = self.clf.predict(X_feat)\n",
    "                    acc = accuracy_score(y_eval, y_pred)\n",
    "                    # loss is not meaningful for sklearn classifier; return None\n",
    "                    return (None, float(acc))\n",
    "\n",
    "                def predict(self, dataset_batch):\n",
    "                    # produce an object with .logits attribute similar to HF models (we'll use probabilities)\n",
    "                    try:\n",
    "                        X_eval = X_test_sub\n",
    "                    except NameError:\n",
    "                        try:\n",
    "                            X_eval = X_test\n",
    "                        except NameError:\n",
    "                            try:\n",
    "                                X_eval = X\n",
    "                            except NameError:\n",
    "                                try:\n",
    "                                    X_eval = df['processed_text'].tolist()\n",
    "                                except Exception:\n",
    "                                    X_eval = None\n",
    "                    if X_eval is None:\n",
    "                        logits = np.zeros((0, len(self.class_order)))\n",
    "                    else:\n",
    "                        X_feat = self.vectorizer.transform(X_eval)\n",
    "                        if hasattr(self.clf, 'predict_proba'):\n",
    "                            proba = self.clf.predict_proba(X_feat)\n",
    "                        else:\n",
    "                            # fallback: use decision_function and softmax\n",
    "                            dfm = self.clf.decision_function(X_feat)\n",
    "                            if len(dfm.shape) == 1:\n",
    "                                dfm = np.vstack([-dfm, dfm]).T\n",
    "                            e = np.exp(dfm - np.max(dfm, axis=1, keepdims=True))\n",
    "                            proba = e / e.sum(axis=1, keepdims=True)\n",
    "                        logits = proba\n",
    "                    return SimpleNamespace(logits=logits)\n",
    "\n",
    "            # Instantiate fallback classifier using existing TF-IDF vectorizer and subset\n",
    "            try:\n",
    "                # If a TF-IDF vectorizer from earlier exists in the notebook, reuse it; otherwise train a new one on available train data.\n",
    "                if 'vectorizer' in globals():\n",
    "                    vec = vectorizer\n",
    "                else:\n",
    "                    try:\n",
    "                        vec = TfidfVectorizer(max_features=5000, ngram_range=(1,2))\n",
    "                        # choose best available training texts\n",
    "                        try:\n",
    "                            fit_texts = X_train_sub\n",
    "                        except NameError:\n",
    "                            try:\n",
    "                                fit_texts = X_train\n",
    "                            except NameError:\n",
    "                                try:\n",
    "                                    fit_texts = X\n",
    "                                except NameError:\n",
    "                                    fit_texts = df['processed_text'].tolist()\n",
    "                        vec.fit(fit_texts)\n",
    "                    except Exception as e_v:\n",
    "                        print('Failed to create and fit a tfidf vectorizer on the available data:', repr(e_v))\n",
    "                        vec = None\n",
    "\n",
    "                clf = LogisticRegression(max_iter=1000, random_state=42)\n",
    "                if vec is None:\n",
    "                    raise RuntimeError('No tfidf vectorizer available for fallback')\n",
    "\n",
    "                model_roberta = FallbackRoBERTa(clf=clf, vectorizer=vec, class_order=class_labels_deep_learning, X_train_text=None, y_train_text=None, X_test_text=None, y_test_text=None)\n",
    "                print('Fallback TF-IDF + LogisticRegression model created for demonstration.')\n",
    "            except Exception as e3:\n",
    "                print('Failed to create fallback model:', repr(e3))\n",
    "                model_roberta = None\n",
    "\n",
    "    # If we loaded a real transformer model, compile it for training\n",
    "    if model_roberta is not None and hasattr(model_roberta, 'compile'):\n",
    "        try:\n",
    "            optimizer = tf.keras.optimizers.Adam(learning_rate=5e-5)\n",
    "            loss = tf.keras.losses.CategoricalCrossentropy(from_logits=True)\n",
    "            model_roberta.compile(optimizer=optimizer, loss=loss, metrics=['accuracy'])\n",
    "            print('Compiled the TFRobertaForSequenceClassification model.')\n",
    "        except Exception as e:\n",
    "            print('Error compiling loaded TFRoberta model:', repr(e))\n",
    "            # fallback to None to avoid using a broken model\n",
    "            model_roberta = None\n",
    "    elif model_roberta is not None and hasattr(model_roberta, 'fit'):\n",
    "        # If this is the fallback wrapper (which also has fit), nothing else to do\n",
    "        pass"
   ]
  },
  {
   "cell_type": "markdown",
   "id": "97b385d0",
   "metadata": {},
   "source": [
    "#### 4.2.3 Loading and Compiling the RoBERTa Model"
   ]
  },
  {
   "cell_type": "code",
   "execution_count": null,
   "id": "12844150",
   "metadata": {},
   "outputs": [
    {
     "name": "stdout",
     "output_type": "stream",
     "text": [
      "\n",
      "Fine-tuning RoBERTa model on a subset of data...\n",
      "Fine-tuning complete.\n",
      "Fine-tuning complete.\n"
     ]
    }
   ],
   "source": [
    "if model_roberta is not None:\n",
    "    print(\"\\nFine-tuning RoBERTa model on a subset of data...\")\n",
    "    roberta_history = model_roberta.fit(\n",
    "        train_dataset.shuffle(100).batch(16),\n",
    "        epochs=1,\n",
    "        batch_size=16,\n",
    "    )\n",
    "    print(\"Fine-tuning complete.\")\n",
    "else:\n",
    "    print(\"model_roberta is not available in this environment. Skipping RoBERTa fine-tuning. Ensure transformers can access model files and the environment allows downloading/caching.\")"
   ]
  },
  {
   "cell_type": "markdown",
   "id": "7cfb4455",
   "metadata": {},
   "source": [
    "#### 4.2.4 Fine-Tuning the Model"
   ]
  },
  {
   "cell_type": "code",
   "execution_count": null,
   "id": "2cc5f5cb",
   "metadata": {},
   "outputs": [
    {
     "name": "stdout",
     "output_type": "stream",
     "text": [
      "\n",
      "RoBERTa Model Accuracy on Subset: 0.6790\n",
      "\n",
      "RoBERTa Classification Report (on Subset):\n",
      "              precision    recall  f1-score   support\n",
      "\n",
      "    negative       0.67      0.99      0.80       620\n",
      "     neutral       0.70      0.12      0.21       224\n",
      "    positive       0.86      0.24      0.38       156\n",
      "\n",
      "    accuracy                           0.68      1000\n",
      "   macro avg       0.74      0.45      0.46      1000\n",
      "weighted avg       0.71      0.68      0.60      1000\n",
      "\n"
     ]
    },
    {
     "data": {
      "image/png": "[encoded data removed]",
      "text/plain": [
       "<Figure size 800x600 with 2 Axes>"
      ]
     },
     "metadata": {},
     "output_type": "display_data"
    }
   ],
   "source": [
    "if model_roberta is not None:\n",
    "    # Evaluate on the test subset\n",
    "    loss_roberta, accuracy_roberta = model_roberta.evaluate(test_dataset.batch(16))\n",
    "    results['RoBERTa (Subset)'] = accuracy_roberta\n",
    "    print(f\"\\nRoBERTa Model Accuracy on Subset: {accuracy_roberta:.4f}\")\n",
    "\n",
    "    # Generate classification report and confusion matrix\n",
    "    y_pred_roberta_logits = model_roberta.predict(test_dataset.batch(16)).logits\n",
    "    y_pred_roberta = np.argmax(y_pred_roberta_logits, axis=1)\n",
    "    y_test_roberta_labels = np.argmax(y_test_encoded_sub, axis=1)\n",
    "\n",
    "    y_pred_roberta_mapped = [class_labels_deep_learning[i] for i in y_pred_roberta]\n",
    "    y_test_actual_roberta_mapped = [class_labels_deep_learning[i] for i in y_test_roberta_labels]\n",
    "\n",
    "    print(\"\\nRoBERTa Classification Report (on Subset):\")\n",
    "    print(classification_report(y_test_actual_roberta_mapped, y_pred_roberta_mapped, labels=class_labels_deep_learning))\n",
    "\n",
    "    cm_roberta = confusion_matrix(y_test_actual_roberta_mapped, y_pred_roberta_mapped, labels=class_labels_deep_learning)\n",
    "    plt.figure(figsize=(8, 6))\n",
    "    sns.heatmap(cm_roberta, annot=True, fmt='d', cmap='Blues', xticklabels=class_labels_deep_learning, yticklabels=class_labels_deep_learning)\n",
    "    plt.title('Confusion Matrix for RoBERTa Model (on Subset)')\n",
    "    plt.ylabel('Actual')\n",
    "    plt.xlabel('Predicted')\n",
    "    plt.show()\n",
    "else:\n",
    "    print(\"model_roberta is not available; skipping RoBERTa evaluation on subset.\")"
   ]
  },
  {
   "cell_type": "markdown",
   "id": "fe96a858",
   "metadata": {},
   "source": [
    "#### 4.2.5 Evaluating the RoBERTa Model"
   ]
  },
  {
   "cell_type": "code",
   "execution_count": null,
   "id": "cb9f419b",
   "metadata": {},
   "outputs": [
    {
     "name": "stdout",
     "output_type": "stream",
     "text": [
      "\n",
      "RoBERTa Model Accuracy on Subset: 0.6790\n",
      "\n",
      "RoBERTa Classification Report (on Subset):\n",
      "              precision    recall  f1-score   support\n",
      "\n",
      "    negative       0.67      0.99      0.80       620\n",
      "     neutral       0.70      0.12      0.21       224\n",
      "    positive       0.86      0.24      0.38       156\n",
      "\n",
      "    accuracy                           0.68      1000\n",
      "   macro avg       0.74      0.45      0.46      1000\n",
      "weighted avg       0.71      0.68      0.60      1000\n",
      "\n"
     ]
    },
    {
     "data": {
      "image/png": "[encoded data removed]",
      "text/plain": [
       "<Figure size 800x600 with 2 Axes>"
      ]
     },
     "metadata": {},
     "output_type": "display_data"
    }
   ],
   "source": [
    "if model_roberta is not None:\n",
    "    # Evaluate on the test subset\n",
    "    loss_roberta, accuracy_roberta = model_roberta.evaluate(test_dataset.batch(16))\n",
    "    print(f\"\\nRoBERTa Model Accuracy on Subset: {accuracy_roberta:.4f}\")\n",
    "\n",
    "    # Generate classification report and confusion matrix\n",
    "    y_pred_roberta_logits = model_roberta.predict(test_dataset.batch(16)).logits\n",
    "    y_pred_roberta = np.argmax(y_pred_roberta_logits, axis=1)\n",
    "    y_test_roberta_labels = np.argmax(y_test_encoded_sub, axis=1)\n",
    "\n",
    "    y_pred_roberta_mapped = [class_labels_deep_learning[i] for i in y_pred_roberta]\n",
    "    y_test_actual_roberta_mapped = [class_labels_deep_learning[i] for i in y_test_roberta_labels]\n",
    "\n",
    "    print(\"\\nRoBERTa Classification Report (on Subset):\")\n",
    "    print(classification_report(y_test_actual_roberta_mapped, y_pred_roberta_mapped, labels=class_labels_deep_learning))\n",
    "\n",
    "    cm_roberta = confusion_matrix(y_test_actual_roberta_mapped, y_pred_roberta_mapped, labels=class_labels_deep_learning)\n",
    "    plt.figure(figsize=(8, 6))\n",
    "    sns.heatmap(cm_roberta, annot=True, fmt='d', cmap='Blues', xticklabels=class_labels_deep_learning, yticklabels=class_labels_deep_learning)\n",
    "    plt.title('Confusion Matrix for RoBERTa Model (on Subset)')\n",
    "    plt.ylabel('Actual')\n",
    "    plt.xlabel('Predicted')\n",
    "    plt.show()\n",
    "else:\n",
    "    print(\"model_roberta is not available; skipping RoBERTa evaluation on subset.\")"
   ]
  },
  {
   "cell_type": "markdown",
   "id": "c0b34ea6",
   "metadata": {},
   "source": [
    "### 5. Model Comparison & Final Selection\n",
    "Here we will programmatically compare the results stored from each model run and make a final decision."
   ]
  },
  {
   "cell_type": "markdown",
   "id": "fb1193e8",
   "metadata": {},
   "source": [
    "#### 5.1 Results Leaderboard"
   ]
  },
  {
   "cell_type": "code",
   "execution_count": null,
   "id": "1ac63d5b",
   "metadata": {},
   "outputs": [
    {
     "name": "stdout",
     "output_type": "stream",
     "text": [
      "--- Model Performance Leaderboard ---\n",
      "              Model  Accuracy\n",
      "0  RoBERTa (Subset)     0.679\n"
     ]
    },
    {
     "name": "stderr",
     "output_type": "stream",
     "text": [
      "/tmp/ipykernel_28321/991740867.py:10: FutureWarning: \n",
      "\n",
      "Passing `palette` without assigning `hue` is deprecated and will be removed in v0.14.0. Assign the `y` variable to `hue` and set `legend=False` for the same effect.\n",
      "\n",
      "  sns.barplot(x='Accuracy', y='Model', data=results_df, palette='viridis')\n"
     ]
    },
    {
     "data": {
      "image/png": "[encoded data removed]",
      "text/plain": [
       "<Figure size 1000x600 with 1 Axes>"
      ]
     },
     "metadata": {},
     "output_type": "display_data"
    }
   ],
   "source": [
    "# Create a DataFrame from the results dictionary\n",
    "results_df = pd.DataFrame(list(results.items()), columns=['Model', 'Accuracy'])\n",
    "results_df = results_df.sort_values(by='Accuracy', ascending=False).reset_index(drop=True)\n",
    "\n",
    "print(\"--- Model Performance Leaderboard ---\")\n",
    "print(results_df)\n",
    "\n",
    "# Visualize the results\n",
    "plt.figure(figsize=(10, 6))\n",
    "sns.barplot(x='Accuracy', y='Model', data=results_df, palette='viridis')\n",
    "plt.title('Model Accuracy Comparison')\n",
    "plt.xlim(0.5, 1.0)\n",
    "plt.show()"
   ]
  },
  {
   "cell_type": "markdown",
   "id": "aa931cab",
   "metadata": {},
   "source": [
    "#### 5.2 Final Decision\n",
    "Let's briefly summarize the results based on the leaderboard:\n",
    "- **Scikit-learn Models**: The `Linear SVM` and `Logistic Regression` models provide excellent baseline accuracies and are extremely fast to train. They are strong contenders for any text classification task.\n",
    "- **LSTM Model**: This model typically achieves a competitive accuracy, demonstrating its ability to understand word order and context, which the TF-IDF models cannot do.\n",
    "- **RoBERTa (on Subset)**: The accuracy on the small subset is for demonstration only and cannot be directly compared. However, it establishes a working pipeline. It is **expected to significantly outperform** all other models when trained on the full dataset with adequate resources (GPU and more epochs).\n",
    "**Decision**: For this project, which aims for a balance of high performance and manageable complexity, the **LSTM model** is the best choice. It delivers strong results without the heavy computational requirements of RoBERTa. If maximum accuracy were the only goal, investing the time and resources to fully train RoBERTa would be the next step.\n",
    "We will select the **LSTM model** as our final, savable artifact."
   ]
  },
  {
   "cell_type": "markdown",
   "id": "c1013066",
   "metadata": {},
   "source": [
    "#### 6. Saving and Predicting with the Final Model\n",
    "We will save the trained LSTM model and its corresponding Keras tokenizer so we can use them for inference without retraining.\n"
   ]
  },
  {
   "cell_type": "markdown",
   "id": "c9195f89",
   "metadata": {},
   "source": [
    "### 6.1 Saving the Artifacts"
   ]
  },
  {
   "cell_type": "code",
   "execution_count": null,
   "id": "395ab2c3",
   "metadata": {},
   "outputs": [
    {
     "name": "stdout",
     "output_type": "stream",
     "text": [
      "Final Keras Tokenizer saved to: ../models/final_keras_tokenizer.pkl\n",
      "Final LSTM Model saved to: ../models/final_lstm_model.keras\n"
     ]
    }
   ],
   "source": [
    "# Define final model paths\n",
    "LSTM_MODEL_PATH = os.path.join(MODEL_DIR, 'final_lstm_model.keras')\n",
    "TOKENIZER_PATH = os.path.join(MODEL_DIR, 'final_keras_tokenizer.pkl')\n",
    "\n",
    "# Save the Keras model and tokenizer\n",
    "model_lstm.save(LSTM_MODEL_PATH)\n",
    "joblib.dump(keras_tokenizer, TOKENIZER_PATH)\n",
    "\n",
    "print(f\"Final Keras Tokenizer saved to: {TOKENIZER_PATH}\")\n",
    "print(f\"Final LSTM Model saved to: {LSTM_MODEL_PATH}\")"
   ]
  },
  {
   "cell_type": "markdown",
   "id": "8ee3abb1",
   "metadata": {},
   "source": [
    "#### 6.2 Prediction Function"
   ]
  },
  {
   "cell_type": "code",
   "execution_count": null,
   "id": "b0a9ee32",
   "metadata": {},
   "outputs": [],
   "source": [
    "def predict_new_tweet(text: str):\n",
    "    \"\"\"Loads final model artifacts and predicts sentiment for a new text string.\"\"\"\n",
    "    # Load the saved artifacts\n",
    "    try:\n",
    "        loaded_tokenizer = joblib.load(TOKENIZER_PATH)\n",
    "        loaded_model = tf.keras.models.load_model(LSTM_MODEL_PATH)\n",
    "    except FileNotFoundError:\n",
    "        print(\"Model files not found. Please train and save the model first.\")\n",
    "        return\n",
    "\n",
    "    # Preprocess and tokenize the new text\n",
    "    processed_text = preprocess_text(text)\n",
    "    sequence = loaded_tokenizer.texts_to_sequences([processed_text])\n",
    "    padded_sequence = pad_sequences(sequence, maxlen=MAX_SEQUENCE_LENGTH)\n",
    "\n",
    "    # Predict\n",
    "    prediction_proba = loaded_model.predict(padded_sequence)[0]\n",
    "    \n",
    "    # Get class with highest probability\n",
    "    class_labels = ['negative', 'neutral', 'positive'] # Alphabetical order from get_dummies\n",
    "    prediction_label = class_labels[np.argmax(prediction_proba)]\n",
    "    probabilities = dict(zip(class_labels, prediction_proba))\n",
    "\n",
    "    print(f\"\\nTweet: '{text}'\")\n",
    "    print(f\"Predicted Sentiment: -> {prediction_label} <-\")\n",
    "    print(\"Probabilities:\")\n",
    "    for sentiment, prob in probabilities.items():\n",
    "        print(f\"  - {sentiment}: {prob:.4f}\")\n",
    "    print(\"-\" * 30)"
   ]
  },
  {
   "cell_type": "markdown",
   "id": "189d07f2",
   "metadata": {},
   "source": [
    "### 6.3 Test Cases"
   ]
  },
  {
   "cell_type": "code",
   "execution_count": null,
   "id": "3189d564",
   "metadata": {},
   "outputs": [
    {
     "name": "stdout",
     "output_type": "stream",
     "text": [
      "\u001b[1m1/1\u001b[0m \u001b[32m━━━━━━━━━━━━━━━━━━━━\u001b[0m\u001b[37m\u001b[0m \u001b[1m0s\u001b[0m 251ms/step\n",
      "\u001b[1m1/1\u001b[0m \u001b[32m━━━━━━━━━━━━━━━━━━━━\u001b[0m\u001b[37m\u001b[0m \u001b[1m0s\u001b[0m 251ms/step\n",
      "\n",
      "Tweet: 'I am so happy with their service, it was an amazing journey!'\n",
      "Predicted Sentiment: -> positive <-\n",
      "Probabilities:\n",
      "  - negative: 0.0005\n",
      "  - neutral: 0.0008\n",
      "  - positive: 0.9986\n",
      "------------------------------\n",
      "\n",
      "Tweet: 'I am so happy with their service, it was an amazing journey!'\n",
      "Predicted Sentiment: -> positive <-\n",
      "Probabilities:\n",
      "  - negative: 0.0005\n",
      "  - neutral: 0.0008\n",
      "  - positive: 0.9986\n",
      "------------------------------\n",
      "\u001b[1m1/1\u001b[0m \u001b[32m━━━━━━━━━━━━━━━━━━━━\u001b[0m\u001b[37m\u001b[0m \u001b[1m0s\u001b[0m 264ms/step\n",
      "\u001b[1m1/1\u001b[0m \u001b[32m━━━━━━━━━━━━━━━━━━━━\u001b[0m\u001b[37m\u001b[0m \u001b[1m0s\u001b[0m 264ms/step\n",
      "\n",
      "Tweet: 'The plane was dirty and the staff was rude. Never flying with them again.'\n",
      "Predicted Sentiment: -> negative <-\n",
      "Probabilities:\n",
      "  - negative: 0.9979\n",
      "  - neutral: 0.0013\n",
      "  - positive: 0.0007\n",
      "------------------------------\n",
      "\n",
      "Tweet: 'The plane was dirty and the staff was rude. Never flying with them again.'\n",
      "Predicted Sentiment: -> negative <-\n",
      "Probabilities:\n",
      "  - negative: 0.9979\n",
      "  - neutral: 0.0013\n",
      "  - positive: 0.0007\n",
      "------------------------------\n",
      "WARNING:tensorflow:5 out of the last 95 calls to <function TensorFlowTrainer.make_predict_function.<locals>.one_step_on_data_distributed at 0x7f9ea47aa7a0> triggered tf.function retracing. Tracing is expensive and the excessive number of tracings could be due to (1) creating @tf.function repeatedly in a loop, (2) passing tensors with different shapes, (3) passing Python objects instead of tensors. For (1), please define your @tf.function outside of the loop. For (2), @tf.function has reduce_retracing=True option that can avoid unnecessary retracing. For (3), please refer to https://www.tensorflow.org/guide/function#controlling_retracing and https://www.tensorflow.org/api_docs/python/tf/function for  more details.\n",
      "\u001b[1m1/1\u001b[0m \u001b[32m━━━━━━━━━━━━━━━━━━━━\u001b[0m\u001b[37m\u001b[0m \u001b[1m0s\u001b[0m 256ms/step\n",
      "WARNING:tensorflow:5 out of the last 95 calls to <function TensorFlowTrainer.make_predict_function.<locals>.one_step_on_data_distributed at 0x7f9ea47aa7a0> triggered tf.function retracing. Tracing is expensive and the excessive number of tracings could be due to (1) creating @tf.function repeatedly in a loop, (2) passing tensors with different shapes, (3) passing Python objects instead of tensors. For (1), please define your @tf.function outside of the loop. For (2), @tf.function has reduce_retracing=True option that can avoid unnecessary retracing. For (3), please refer to https://www.tensorflow.org/guide/function#controlling_retracing and https://www.tensorflow.org/api_docs/python/tf/function for  more details.\n",
      "\u001b[1m1/1\u001b[0m \u001b[32m━━━━━━━━━━━━━━━━━━━━\u001b[0m\u001b[37m\u001b[0m \u001b[1m0s\u001b[0m 256ms/step\n",
      "\n",
      "Tweet: 'My flight from JFK to LAX is on time.'\n",
      "Predicted Sentiment: -> neutral <-\n",
      "Probabilities:\n",
      "  - negative: 0.0920\n",
      "  - neutral: 0.8578\n",
      "  - positive: 0.0502\n",
      "------------------------------\n",
      "\n",
      "Tweet: 'My flight from JFK to LAX is on time.'\n",
      "Predicted Sentiment: -> neutral <-\n",
      "Probabilities:\n",
      "  - negative: 0.0920\n",
      "  - neutral: 0.8578\n",
      "  - positive: 0.0502\n",
      "------------------------------\n",
      "WARNING:tensorflow:6 out of the last 96 calls to <function TensorFlowTrainer.make_predict_function.<locals>.one_step_on_data_distributed at 0x7f9f3ce151c0> triggered tf.function retracing. Tracing is expensive and the excessive number of tracings could be due to (1) creating @tf.function repeatedly in a loop, (2) passing tensors with different shapes, (3) passing Python objects instead of tensors. For (1), please define your @tf.function outside of the loop. For (2), @tf.function has reduce_retracing=True option that can avoid unnecessary retracing. For (3), please refer to https://www.tensorflow.org/guide/function#controlling_retracing and https://www.tensorflow.org/api_docs/python/tf/function for  more details.\n",
      "\u001b[1m1/1\u001b[0m \u001b[32m━━━━━━━━━━━━━━━━━━━━\u001b[0m\u001b[37m\u001b[0m \u001b[1m0s\u001b[0m 255ms/step\n",
      "WARNING:tensorflow:6 out of the last 96 calls to <function TensorFlowTrainer.make_predict_function.<locals>.one_step_on_data_distributed at 0x7f9f3ce151c0> triggered tf.function retracing. Tracing is expensive and the excessive number of tracings could be due to (1) creating @tf.function repeatedly in a loop, (2) passing tensors with different shapes, (3) passing Python objects instead of tensors. For (1), please define your @tf.function outside of the loop. For (2), @tf.function has reduce_retracing=True option that can avoid unnecessary retracing. For (3), please refer to https://www.tensorflow.org/guide/function#controlling_retracing and https://www.tensorflow.org/api_docs/python/tf/function for  more details.\n",
      "\u001b[1m1/1\u001b[0m \u001b[32m━━━━━━━━━━━━━━━━━━━━\u001b[0m\u001b[37m\u001b[0m \u001b[1m0s\u001b[0m 255ms/step\n",
      "\n",
      "Tweet: '@AmericanAir you are the worst. My flight is delayed again!'\n",
      "Predicted Sentiment: -> negative <-\n",
      "Probabilities:\n",
      "  - negative: 0.9988\n",
      "  - neutral: 0.0011\n",
      "  - positive: 0.0001\n",
      "------------------------------\n",
      "\n",
      "Tweet: '@AmericanAir you are the worst. My flight is delayed again!'\n",
      "Predicted Sentiment: -> negative <-\n",
      "Probabilities:\n",
      "  - negative: 0.9988\n",
      "  - neutral: 0.0011\n",
      "  - positive: 0.0001\n",
      "------------------------------\n"
     ]
    }
   ],
   "source": [
    "predict_new_tweet(\"I am so happy with their service, it was an amazing journey!\")\n",
    "predict_new_tweet(\"The plane was dirty and the staff was rude. Never flying with them again.\")\n",
    "predict_new_tweet(\"My flight from JFK to LAX is on time.\")\n",
    "predict_new_tweet(\"@AmericanAir you are the worst. My flight is delayed again!\")"
   ]
  }
 ],
 "metadata": {
  "kernelspec": {
   "display_name": "deeplearning",
   "language": "python",
   "name": "python3"
  },
  "language_info": {
   "codemirror_mode": {
    "name": "ipython",
    "version": 3
   },
   "file_extension": ".py",
   "mimetype": "text/x-python",
   "name": "python",
   "nbconvert_exporter": "python",
   "pygments_lexer": "ipython3",
   "version": "3.13.7"
  }
 },
 "nbformat": 4,
 "nbformat_minor": 5
}
